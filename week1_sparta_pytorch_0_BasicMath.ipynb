{
  "nbformat": 4,
  "nbformat_minor": 0,
  "metadata": {
    "colab": {
      "name": "week1_sparta_pytorch_0.BasicMath.ipynb",
      "provenance": [],
      "collapsed_sections": [
        "9DAJTHmzDoNO",
        "mvnnCiQ-Dza-"
      ],
      "toc_visible": true,
      "machine_shape": "hm",
      "authorship_tag": "ABX9TyMPIFp6D1X3c4NQpnmIpA0X",
      "include_colab_link": true
    },
    "kernelspec": {
      "name": "python3",
      "display_name": "Python 3"
    },
    "language_info": {
      "name": "python"
    },
    "accelerator": "GPU"
  },
  "cells": [
    {
      "cell_type": "markdown",
      "metadata": {
        "id": "view-in-github",
        "colab_type": "text"
      },
      "source": [
        "<a href=\"https://colab.research.google.com/github/jhlee508/sparta-pytorch/blob/master/week1_sparta_pytorch_0_BasicMath.ipynb\" target=\"_parent\"><img src=\"https://colab.research.google.com/assets/colab-badge.svg\" alt=\"Open In Colab\"/></a>"
      ]
    },
    {
      "cell_type": "markdown",
      "metadata": {
        "id": "ovq1PADBFN1d"
      },
      "source": [
        "#0. 시작하기 전에"
      ]
    },
    {
      "cell_type": "markdown",
      "metadata": {
        "id": "U2QHkm3sKmIH"
      },
      "source": [
        "딥 러닝은 수학입니다. 그래서 파이토치 또한 수학을 위한 각종 기능들을 제공하고 있습니다.  \n",
        "다음 내용들은 딥 러닝을 위한 기본적인 수학적인 단위이므로 숙지합니다."
      ]
    },
    {
      "cell_type": "markdown",
      "metadata": {
        "id": "7W0EgzcYFC8O"
      },
      "source": [
        "우리는 PyTorch라는 딥 러닝 프레임워크를 사용할 것이므로 실습하기에 앞서 torch를 임포트합니다.  \n",
        "Colab에서는 PyTorch가 이미 설치되어서 제공되어져 있으므로 별도 설치가 필요하지 않습니다."
      ]
    },
    {
      "cell_type": "code",
      "metadata": {
        "id": "ZJ_26-nkFAEI"
      },
      "source": [
        "import torch"
      ],
      "execution_count": 4,
      "outputs": []
    },
    {
      "cell_type": "markdown",
      "metadata": {
        "id": "dw4fkCcuEiVo"
      },
      "source": [
        "# 1. 스칼라(Scalar)"
      ]
    },
    {
      "cell_type": "markdown",
      "metadata": {
        "id": "0eE85PoxE5ut"
      },
      "source": [
        "스칼라(Scalar)는 하나의 상수를 의미합니다. PyTorch에서 스칼라를 만드는 방법은 간단합니다.  \n",
        "\n",
        "* torch.tensor([숫자])"
      ]
    },
    {
      "cell_type": "code",
      "metadata": {
        "id": "BMUKosWwFRHF"
      },
      "source": [
        "var1 = torch.tensor([1])"
      ],
      "execution_count": 5,
      "outputs": []
    },
    {
      "cell_type": "code",
      "metadata": {
        "colab": {
          "base_uri": "https://localhost:8080/"
        },
        "id": "ovRI3vHLGAAp",
        "outputId": "b818decb-c334-4cc5-e219-e829a82809ba"
      },
      "source": [
        "type(var1)"
      ],
      "execution_count": 6,
      "outputs": [
        {
          "output_type": "execute_result",
          "data": {
            "text/plain": [
              "torch.Tensor"
            ]
          },
          "metadata": {},
          "execution_count": 6
        }
      ]
    },
    {
      "cell_type": "markdown",
      "metadata": {
        "id": "-mCahl74GGaR"
      },
      "source": [
        "타입은 torch.Tensor가 나옵니다. torch.Tensor는 파이토치에서 제공하는 파이썬의 자료형이라고 보시면됩니다.  "
      ]
    },
    {
      "cell_type": "markdown",
      "metadata": {
        "id": "j07Ct6RuGUdv"
      },
      "source": [
        "이번에는 또 다른 스칼라를 만들어봤습니다."
      ]
    },
    {
      "cell_type": "code",
      "metadata": {
        "id": "5KLQchclGFrI"
      },
      "source": [
        "var2 = torch.tensor([5.8])"
      ],
      "execution_count": 7,
      "outputs": []
    },
    {
      "cell_type": "markdown",
      "metadata": {
        "id": "bgV46LxR_0uG"
      },
      "source": [
        "이번에는 두 개의 스칼라를 가지고 곱셈이나 나눗셈 연산을 해보겠습니다.  \n",
        "파이썬에서는 덧셈은 +, 뺄셈은 -, 곱셈은 * 나눗셈은 / 을 의미합니다."
      ]
    },
    {
      "cell_type": "code",
      "metadata": {
        "colab": {
          "base_uri": "https://localhost:8080/"
        },
        "id": "5j4NfxZjGTYQ",
        "outputId": "e5f5b7d9-a722-48fb-e4eb-9c9b7d38ed8b"
      },
      "source": [
        "# 두 스칼라의 덧셈 연산\n",
        "var1 + var2"
      ],
      "execution_count": 8,
      "outputs": [
        {
          "output_type": "execute_result",
          "data": {
            "text/plain": [
              "tensor([6.8000])"
            ]
          },
          "metadata": {},
          "execution_count": 8
        }
      ]
    },
    {
      "cell_type": "code",
      "metadata": {
        "colab": {
          "base_uri": "https://localhost:8080/"
        },
        "id": "YiY217U1DK2S",
        "outputId": "087a907d-afce-407e-99b0-fe4cdcc3d8b3"
      },
      "source": [
        "# 두 스칼라의 뺄셈 연산\n",
        "var1 - var2"
      ],
      "execution_count": 9,
      "outputs": [
        {
          "output_type": "execute_result",
          "data": {
            "text/plain": [
              "tensor([-4.8000])"
            ]
          },
          "metadata": {},
          "execution_count": 9
        }
      ]
    },
    {
      "cell_type": "code",
      "metadata": {
        "colab": {
          "base_uri": "https://localhost:8080/"
        },
        "id": "cwoesLpzGXoR",
        "outputId": "97414b2d-d1bd-46ac-a608-0a389e818dc1"
      },
      "source": [
        "# 두 스칼라의 곱셈 연산\n",
        "var1 * var2"
      ],
      "execution_count": 10,
      "outputs": [
        {
          "output_type": "execute_result",
          "data": {
            "text/plain": [
              "tensor([5.8000])"
            ]
          },
          "metadata": {},
          "execution_count": 10
        }
      ]
    },
    {
      "cell_type": "code",
      "metadata": {
        "colab": {
          "base_uri": "https://localhost:8080/"
        },
        "id": "RXmpfoxLGaxQ",
        "outputId": "8a8ca0db-cf56-4687-a51c-23d3e92121d3"
      },
      "source": [
        "# 두 스칼라의 나눗셈 연산\n",
        "var1 / var2"
      ],
      "execution_count": 11,
      "outputs": [
        {
          "output_type": "execute_result",
          "data": {
            "text/plain": [
              "tensor([0.1724])"
            ]
          },
          "metadata": {},
          "execution_count": 11
        }
      ]
    },
    {
      "cell_type": "markdown",
      "metadata": {
        "id": "vHxfLivnGimS"
      },
      "source": [
        "파이토치는 두 스칼라의 연산을 위해서 덧셈, 뺄셈, 곱셈, 나눗셈 등의 다양한 파이토치만의 연산 함수들을 제공합니다.  \n",
        "\n",
        "위에서 수행했던 사칙연산들을 이번에는 파이토치 함수를 통해서 값을 구해봅시다.\n",
        "\n",
        "* add, sub, mul, div  "
      ]
    },
    {
      "cell_type": "code",
      "metadata": {
        "colab": {
          "base_uri": "https://localhost:8080/"
        },
        "id": "nK2hBze8GgEo",
        "outputId": "fb41d2d9-31e3-43b0-993e-c1573bd8fb6d"
      },
      "source": [
        "torch.add(var1, var2)"
      ],
      "execution_count": 12,
      "outputs": [
        {
          "output_type": "execute_result",
          "data": {
            "text/plain": [
              "tensor([6.8000])"
            ]
          },
          "metadata": {},
          "execution_count": 12
        }
      ]
    },
    {
      "cell_type": "code",
      "metadata": {
        "colab": {
          "base_uri": "https://localhost:8080/"
        },
        "id": "4rDz7q_IGti3",
        "outputId": "b1f0a36f-5749-4ee1-9391-15dbc35445af"
      },
      "source": [
        "torch.sub(var1, var2)"
      ],
      "execution_count": 13,
      "outputs": [
        {
          "output_type": "execute_result",
          "data": {
            "text/plain": [
              "tensor([-4.8000])"
            ]
          },
          "metadata": {},
          "execution_count": 13
        }
      ]
    },
    {
      "cell_type": "code",
      "metadata": {
        "colab": {
          "base_uri": "https://localhost:8080/"
        },
        "id": "1Fy0XAivGvqQ",
        "outputId": "dc758b0c-a112-4060-e6d3-b8513612ff2e"
      },
      "source": [
        "torch.mul(var1, var2)"
      ],
      "execution_count": 14,
      "outputs": [
        {
          "output_type": "execute_result",
          "data": {
            "text/plain": [
              "tensor([5.8000])"
            ]
          },
          "metadata": {},
          "execution_count": 14
        }
      ]
    },
    {
      "cell_type": "code",
      "metadata": {
        "colab": {
          "base_uri": "https://localhost:8080/"
        },
        "id": "NJc3e5MCILfR",
        "outputId": "475c114c-0395-48b4-cfa8-db9824b54a49"
      },
      "source": [
        "torch.div(var1, var2)"
      ],
      "execution_count": 15,
      "outputs": [
        {
          "output_type": "execute_result",
          "data": {
            "text/plain": [
              "tensor([0.1724])"
            ]
          },
          "metadata": {},
          "execution_count": 15
        }
      ]
    },
    {
      "cell_type": "markdown",
      "metadata": {
        "id": "4KM47l54CwLa"
      },
      "source": [
        "---"
      ]
    },
    {
      "cell_type": "markdown",
      "metadata": {
        "id": "JccFKkb7If8Q"
      },
      "source": [
        "#2. 벡터(Vector)"
      ]
    },
    {
      "cell_type": "markdown",
      "metadata": {
        "id": "aGEnbuhPIiZ3"
      },
      "source": [
        "스칼라(Scalar)가 하나의 상수를 표현한다면, 벡터(Vector)는 **상수가 두 개 이상** 나열되었을 때를 벡터라고 합니다.  \n",
        "PyTorch에서는 벡터(Vector)를 다음과 같이 표현합니다."
      ]
    },
    {
      "cell_type": "markdown",
      "metadata": {
        "id": "Jtn2N_tjI8RF"
      },
      "source": [
        "* torch.tensor([숫자1, 숫자2, 숫자3, ... , 숫자9999])"
      ]
    },
    {
      "cell_type": "code",
      "metadata": {
        "id": "HIBIlQTIIxxZ"
      },
      "source": [
        "vector1 = torch.tensor([1, 2, 3])"
      ],
      "execution_count": 16,
      "outputs": []
    },
    {
      "cell_type": "code",
      "metadata": {
        "colab": {
          "base_uri": "https://localhost:8080/"
        },
        "id": "FC2boRJpJA0c",
        "outputId": "9fa7036f-e3de-4481-c6c1-5490e381ae46"
      },
      "source": [
        "vector1"
      ],
      "execution_count": 17,
      "outputs": [
        {
          "output_type": "execute_result",
          "data": {
            "text/plain": [
              "tensor([1, 2, 3])"
            ]
          },
          "metadata": {},
          "execution_count": 17
        }
      ]
    },
    {
      "cell_type": "markdown",
      "metadata": {
        "id": "2QL1jjeyJGZ4"
      },
      "source": [
        "여기서 **수학적인 용어** 한 가지만 짚고갈게요. 우리는 벡터를 차원이라는 용어로 부를 때가 있습니다.  \n",
        "가령, 'N차원 벡터'라고 부른다면 여기서 N은 벡터 안에 숫자가 몇 개있는지를 의미합니다."
      ]
    },
    {
      "cell_type": "markdown",
      "metadata": {
        "id": "BJAaO3vOJRG2"
      },
      "source": [
        "vector1은 숫자가 지금 안에 3개가 있기 때문에 우리는 vector1은 **'3차원 벡터'**라고 부를 수 있습니다."
      ]
    },
    {
      "cell_type": "markdown",
      "metadata": {
        "id": "9DAJTHmzDoNO"
      },
      "source": [
        "##2-1. 벡터의 사칙 연산"
      ]
    },
    {
      "cell_type": "markdown",
      "metadata": {
        "id": "QJfcAPA1J_Qg"
      },
      "source": [
        "이번에는 또 다른 벡터를 만들어서 벡터의 연산을 벡터의 다양한 연산을 한 번 해보겠습니다."
      ]
    },
    {
      "cell_type": "code",
      "metadata": {
        "id": "F3kkdl1GJE3_"
      },
      "source": [
        "vector2 = torch.tensor([10, 20, 30])"
      ],
      "execution_count": 18,
      "outputs": []
    },
    {
      "cell_type": "markdown",
      "metadata": {
        "id": "qdAY8XLm_9dR"
      },
      "source": [
        "순서대로 덧셈, 뺄셈, 곱셈, 나눗셈을 수행해봅시다."
      ]
    },
    {
      "cell_type": "code",
      "metadata": {
        "colab": {
          "base_uri": "https://localhost:8080/"
        },
        "id": "DJVfsv6e_uTD",
        "outputId": "dcdb772d-92c7-4da4-b8de-488e3d9b35d9"
      },
      "source": [
        "# 덧셈\n",
        "vector1 + vector2"
      ],
      "execution_count": 19,
      "outputs": [
        {
          "output_type": "execute_result",
          "data": {
            "text/plain": [
              "tensor([11, 22, 33])"
            ]
          },
          "metadata": {},
          "execution_count": 19
        }
      ]
    },
    {
      "cell_type": "code",
      "metadata": {
        "colab": {
          "base_uri": "https://localhost:8080/"
        },
        "id": "xxNYa_ptACAr",
        "outputId": "bb01af90-4ed8-41ea-e0d9-1815197088a0"
      },
      "source": [
        "# 뺄셈\n",
        "vector1 - vector2"
      ],
      "execution_count": 20,
      "outputs": [
        {
          "output_type": "execute_result",
          "data": {
            "text/plain": [
              "tensor([ -9, -18, -27])"
            ]
          },
          "metadata": {},
          "execution_count": 20
        }
      ]
    },
    {
      "cell_type": "code",
      "metadata": {
        "colab": {
          "base_uri": "https://localhost:8080/"
        },
        "id": "B84FdybJAFVa",
        "outputId": "bfd3dfbb-d472-459e-c733-2a02f62fb718"
      },
      "source": [
        "# 곱셈\n",
        "vector1 * vector2"
      ],
      "execution_count": 21,
      "outputs": [
        {
          "output_type": "execute_result",
          "data": {
            "text/plain": [
              "tensor([10, 40, 90])"
            ]
          },
          "metadata": {},
          "execution_count": 21
        }
      ]
    },
    {
      "cell_type": "code",
      "metadata": {
        "colab": {
          "base_uri": "https://localhost:8080/"
        },
        "id": "1fpCew3rAHcy",
        "outputId": "d5bd97bd-9008-4b57-aa0c-ce3a04ecb66e"
      },
      "source": [
        "# 나눗셈\n",
        "vector1 / vector2"
      ],
      "execution_count": 22,
      "outputs": [
        {
          "output_type": "execute_result",
          "data": {
            "text/plain": [
              "tensor([0.1000, 0.1000, 0.1000])"
            ]
          },
          "metadata": {},
          "execution_count": 22
        }
      ]
    },
    {
      "cell_type": "markdown",
      "metadata": {
        "id": "eRjtcD5RALG_"
      },
      "source": [
        "물론 파이토치가 제공하는 연산 함수를 통해서도 가능합니다.  \n",
        "* add, sub, mul, div"
      ]
    },
    {
      "cell_type": "code",
      "metadata": {
        "colab": {
          "base_uri": "https://localhost:8080/"
        },
        "id": "0YPTUQGIAJaC",
        "outputId": "3d0a3291-4093-4453-e054-dda730a8d560"
      },
      "source": [
        "# 덧셈\n",
        "torch.add(vector1, vector2)"
      ],
      "execution_count": 23,
      "outputs": [
        {
          "output_type": "execute_result",
          "data": {
            "text/plain": [
              "tensor([11, 22, 33])"
            ]
          },
          "metadata": {},
          "execution_count": 23
        }
      ]
    },
    {
      "cell_type": "code",
      "metadata": {
        "colab": {
          "base_uri": "https://localhost:8080/"
        },
        "id": "uvlcahvyASXy",
        "outputId": "6bc116da-0533-4736-bd50-18ee99b0dab9"
      },
      "source": [
        "# 뺄셈\n",
        "torch.sub(vector1, vector2)"
      ],
      "execution_count": 24,
      "outputs": [
        {
          "output_type": "execute_result",
          "data": {
            "text/plain": [
              "tensor([ -9, -18, -27])"
            ]
          },
          "metadata": {},
          "execution_count": 24
        }
      ]
    },
    {
      "cell_type": "code",
      "metadata": {
        "colab": {
          "base_uri": "https://localhost:8080/"
        },
        "id": "Q99lOoojAWKy",
        "outputId": "ace67c7a-8a44-442c-eabb-aad95287679b"
      },
      "source": [
        "# 곱셈\n",
        "torch.mul(vector1, vector2)"
      ],
      "execution_count": 25,
      "outputs": [
        {
          "output_type": "execute_result",
          "data": {
            "text/plain": [
              "tensor([10, 40, 90])"
            ]
          },
          "metadata": {},
          "execution_count": 25
        }
      ]
    },
    {
      "cell_type": "code",
      "metadata": {
        "colab": {
          "base_uri": "https://localhost:8080/"
        },
        "id": "oWGwuKaTAX6i",
        "outputId": "a9932a55-9e05-44d2-dd52-4c6ade9293ae"
      },
      "source": [
        "# 나눗셈\n",
        "torch.div(vector1, vector2)"
      ],
      "execution_count": 26,
      "outputs": [
        {
          "output_type": "execute_result",
          "data": {
            "text/plain": [
              "tensor([0.1000, 0.1000, 0.1000])"
            ]
          },
          "metadata": {},
          "execution_count": 26
        }
      ]
    },
    {
      "cell_type": "markdown",
      "metadata": {
        "id": "-QP3giTMDfw1"
      },
      "source": [
        "##2-2. 벡터의 내적(중요)"
      ]
    },
    {
      "cell_type": "markdown",
      "metadata": {
        "id": "f2x-0rCsAj4o"
      },
      "source": [
        "벡터의 **내적 연산(dot product)**도 torch.dot()을 통해서 가능합니다.  \n",
        "\n",
        "두 벡터의 내적이라고 함은 x = [a1, a2, a3], y=[b1, b2, b3] 다음의 두 벡터가 있다면,  \n",
        "a1 x b1 + a2 x b2 + a3 x b3를 우리는 벡터의 내적이라고 합니다.  "
      ]
    },
    {
      "cell_type": "markdown",
      "metadata": {
        "id": "Z57_U_t4BJeC"
      },
      "source": [
        "여기서 내적은 다음과 같이 이루어졌습니다.  \n",
        "\n",
        "* 1 x 10 + 2 x 20 + 3 x 30 = 140"
      ]
    },
    {
      "cell_type": "code",
      "metadata": {
        "colab": {
          "base_uri": "https://localhost:8080/"
        },
        "id": "BOjpwv_UAZza",
        "outputId": "627034cf-3bce-4631-e3a2-d3e7060643c4"
      },
      "source": [
        "# 내적\n",
        "torch.dot(vector1, vector2)"
      ],
      "execution_count": 27,
      "outputs": [
        {
          "output_type": "execute_result",
          "data": {
            "text/plain": [
              "tensor(140)"
            ]
          },
          "metadata": {},
          "execution_count": 27
        }
      ]
    },
    {
      "cell_type": "markdown",
      "metadata": {
        "id": "CmISt6G2CxXk"
      },
      "source": [
        "---"
      ]
    },
    {
      "cell_type": "markdown",
      "metadata": {
        "id": "pIQf7tpvBRpn"
      },
      "source": [
        "#3. 행렬(Matrix)"
      ]
    },
    {
      "cell_type": "markdown",
      "metadata": {
        "id": "l_pO5N7KBbdr"
      },
      "source": [
        "행렬(Matrix)는 2개 이상의 벡터 값을 가지고 만들어진 값으로 **행과 열의 개념**을 가진 숫자의 나열입니다."
      ]
    },
    {
      "cell_type": "code",
      "metadata": {
        "colab": {
          "base_uri": "https://localhost:8080/"
        },
        "id": "ccLeh3SiBXQ9",
        "outputId": "71cc190a-6c45-40c3-876a-df31599c8e15"
      },
      "source": [
        "matrix1 = torch.tensor([[1, 2], [3, 4]])\n",
        "print(matrix1)"
      ],
      "execution_count": 28,
      "outputs": [
        {
          "output_type": "stream",
          "name": "stdout",
          "text": [
            "tensor([[1, 2],\n",
            "        [3, 4]])\n"
          ]
        }
      ]
    },
    {
      "cell_type": "markdown",
      "metadata": {
        "id": "2xs6ZinhB3Bw"
      },
      "source": [
        "위 행렬은 2행, 2열을 가지는 행렬입니다. 또는 2 x 2 행렬이라고도 부릅니다.  \n",
        "또 다른 행렬을 하나 더 만들어봅시다."
      ]
    },
    {
      "cell_type": "code",
      "metadata": {
        "colab": {
          "base_uri": "https://localhost:8080/"
        },
        "id": "gWe79Gy0By5b",
        "outputId": "9de4cd1a-bb9b-4939-931e-f73a54a15e86"
      },
      "source": [
        "matrix2 = torch.tensor([[7, 8], [9, 10]])\n",
        "print(matrix2)"
      ],
      "execution_count": 29,
      "outputs": [
        {
          "output_type": "stream",
          "name": "stdout",
          "text": [
            "tensor([[ 7,  8],\n",
            "        [ 9, 10]])\n"
          ]
        }
      ]
    },
    {
      "cell_type": "markdown",
      "metadata": {
        "id": "mvnnCiQ-Dza-"
      },
      "source": [
        "##3-1. 행렬의 사칙연산"
      ]
    },
    {
      "cell_type": "markdown",
      "metadata": {
        "id": "7hUFTVzqB-tF"
      },
      "source": [
        "이제 두 행렬 간 사칙 연산을 수행해봅시다."
      ]
    },
    {
      "cell_type": "code",
      "metadata": {
        "colab": {
          "base_uri": "https://localhost:8080/"
        },
        "id": "AK7Z3SqwB2gq",
        "outputId": "e7d2f875-2a44-4aa1-dd88-2ac26081a0f9"
      },
      "source": [
        "matrix1 + matrix2"
      ],
      "execution_count": 30,
      "outputs": [
        {
          "output_type": "execute_result",
          "data": {
            "text/plain": [
              "tensor([[ 8, 10],\n",
              "        [12, 14]])"
            ]
          },
          "metadata": {},
          "execution_count": 30
        }
      ]
    },
    {
      "cell_type": "code",
      "metadata": {
        "colab": {
          "base_uri": "https://localhost:8080/"
        },
        "id": "KQ056XsdCChq",
        "outputId": "8c52d2c3-b490-4cbe-dc5c-192ea27c127a"
      },
      "source": [
        "matrix1 - matrix2"
      ],
      "execution_count": 31,
      "outputs": [
        {
          "output_type": "execute_result",
          "data": {
            "text/plain": [
              "tensor([[-6, -6],\n",
              "        [-6, -6]])"
            ]
          },
          "metadata": {},
          "execution_count": 31
        }
      ]
    },
    {
      "cell_type": "code",
      "metadata": {
        "colab": {
          "base_uri": "https://localhost:8080/"
        },
        "id": "VJmKBRWoCExJ",
        "outputId": "fff79a73-3b8d-47d1-f3ae-58455c451eb5"
      },
      "source": [
        "# 동일한 위치에 있는 원소들끼리 곱합니다.\n",
        "matrix1 * matrix2"
      ],
      "execution_count": 32,
      "outputs": [
        {
          "output_type": "execute_result",
          "data": {
            "text/plain": [
              "tensor([[ 7, 16],\n",
              "        [27, 40]])"
            ]
          },
          "metadata": {},
          "execution_count": 32
        }
      ]
    },
    {
      "cell_type": "code",
      "metadata": {
        "colab": {
          "base_uri": "https://localhost:8080/"
        },
        "id": "z96UHpcRCIvJ",
        "outputId": "0c32d7eb-130b-47e6-9196-eed459352afe"
      },
      "source": [
        "matrix1 / matrix2"
      ],
      "execution_count": 33,
      "outputs": [
        {
          "output_type": "execute_result",
          "data": {
            "text/plain": [
              "tensor([[0.1429, 0.2500],\n",
              "        [0.3333, 0.4000]])"
            ]
          },
          "metadata": {},
          "execution_count": 33
        }
      ]
    },
    {
      "cell_type": "markdown",
      "metadata": {
        "id": "vjJ-owOeCWDP"
      },
      "source": [
        "스칼라와 벡터일 때와 마찬가지로 파이토치에서 제공하는 연산 함수를 통해서 사칙 연산을 수행할 수도 있습니다."
      ]
    },
    {
      "cell_type": "code",
      "metadata": {
        "colab": {
          "base_uri": "https://localhost:8080/"
        },
        "id": "KEMLy693CKjR",
        "outputId": "4608a9fa-b0db-499a-a95a-fddeaf0d2970"
      },
      "source": [
        "# 행렬의 덧셈\n",
        "torch.add(matrix1, matrix2)"
      ],
      "execution_count": 34,
      "outputs": [
        {
          "output_type": "execute_result",
          "data": {
            "text/plain": [
              "tensor([[ 8, 10],\n",
              "        [12, 14]])"
            ]
          },
          "metadata": {},
          "execution_count": 34
        }
      ]
    },
    {
      "cell_type": "code",
      "metadata": {
        "colab": {
          "base_uri": "https://localhost:8080/"
        },
        "id": "Kg-wVadiCoTa",
        "outputId": "4edbd416-822b-455e-9403-3469a4c99581"
      },
      "source": [
        "# 행렬의 뺄셈\n",
        "torch.sub(matrix1, matrix2)"
      ],
      "execution_count": 35,
      "outputs": [
        {
          "output_type": "execute_result",
          "data": {
            "text/plain": [
              "tensor([[-6, -6],\n",
              "        [-6, -6]])"
            ]
          },
          "metadata": {},
          "execution_count": 35
        }
      ]
    },
    {
      "cell_type": "code",
      "metadata": {
        "colab": {
          "base_uri": "https://localhost:8080/"
        },
        "id": "Olb8Gj_5CpVR",
        "outputId": "99715f82-47b8-4f03-8731-f6cc958f3a86"
      },
      "source": [
        "# 행렬의 원소별 곱셈\n",
        "torch.mul(matrix1, matrix2)"
      ],
      "execution_count": 36,
      "outputs": [
        {
          "output_type": "execute_result",
          "data": {
            "text/plain": [
              "tensor([[ 7, 16],\n",
              "        [27, 40]])"
            ]
          },
          "metadata": {},
          "execution_count": 36
        }
      ]
    },
    {
      "cell_type": "code",
      "metadata": {
        "colab": {
          "base_uri": "https://localhost:8080/"
        },
        "id": "-HW0XM-wCqjZ",
        "outputId": "9cafa5e7-7a59-4a77-be56-41842cc39dbf"
      },
      "source": [
        "# 행렬의 나눗셈\n",
        "torch.div(matrix1, matrix2)"
      ],
      "execution_count": 37,
      "outputs": [
        {
          "output_type": "execute_result",
          "data": {
            "text/plain": [
              "tensor([[0.1429, 0.2500],\n",
              "        [0.3333, 0.4000]])"
            ]
          },
          "metadata": {},
          "execution_count": 37
        }
      ]
    },
    {
      "cell_type": "markdown",
      "metadata": {
        "id": "-v1wY0NgD1Rr"
      },
      "source": [
        "##3-2. 행렬의 곱셈"
      ]
    },
    {
      "cell_type": "markdown",
      "metadata": {
        "id": "_wNxXANzEPYk"
      },
      "source": [
        "행렬의 곱셈에 대한 참고 자료 : https://mathbang.net/562  \n",
        "행렬의 곱셈에 대한 참고 자료 : https://m.blog.naver.com/PostView.naver?isHttpsRedirect=true&blogId=alwaysneoi&logNo=100194421088"
      ]
    },
    {
      "cell_type": "markdown",
      "metadata": {
        "id": "WNe-owBvD3Pl"
      },
      "source": [
        "벡터에 내적이라는 개념이 있었던 것처럼 행렬에도 행렬의 곱셈이라는 특수한 연산이 존재합니다.  \n",
        "\n",
        "* torch.matmul()"
      ]
    },
    {
      "cell_type": "code",
      "metadata": {
        "colab": {
          "base_uri": "https://localhost:8080/"
        },
        "id": "gib0dovgCr5R",
        "outputId": "c65c5b16-1a3b-458b-9d3e-1d37ac53e14f"
      },
      "source": [
        "torch.matmul(matrix1, matrix2)"
      ],
      "execution_count": 38,
      "outputs": [
        {
          "output_type": "execute_result",
          "data": {
            "text/plain": [
              "tensor([[25, 28],\n",
              "        [57, 64]])"
            ]
          },
          "metadata": {},
          "execution_count": 38
        }
      ]
    },
    {
      "cell_type": "markdown",
      "metadata": {
        "id": "GHWlrksQET9A"
      },
      "source": [
        "#4. 텐서(Tensor)"
      ]
    },
    {
      "cell_type": "markdown",
      "metadata": {
        "id": "eqwxCaAaEgHk"
      },
      "source": [
        "스칼라는 하나의 숫자를 의미했습니다.  \n",
        "벡터는 다수의 스칼라가 모인 개념입니다.    \n",
        "행렬은 다수의 벡터가 모인 개념입니다.  \n",
        "텐서는 다수의 행렬이 모이면 이때부터는 일반적으로 텐서(Tensor)라고 부릅니다.  \n"
      ]
    },
    {
      "cell_type": "code",
      "metadata": {
        "colab": {
          "base_uri": "https://localhost:8080/",
          "height": 360
        },
        "id": "iwt7vhnkE7PI",
        "outputId": "14b3ac1b-123a-42fb-ff18-aad9601d7b10"
      },
      "source": [
        "from IPython.display import Image\n",
        "Image('tensor.png')"
      ],
      "execution_count": 41,
      "outputs": [
        {
          "output_type": "execute_result",
          "data": {
            "image/png": "[encoded data removed]",
            "text/plain": [
              "<IPython.core.display.Image object>"
            ]
          },
          "metadata": {},
          "execution_count": 41
        }
      ]
    },
    {
      "cell_type": "markdown",
      "metadata": {
        "id": "Eg9zz5JAGTEM"
      },
      "source": [
        "이미지 출처 : https://miro.medium.com/max/875/1*jRyyMAhS_NZxqyv3EoLCvg.png"
      ]
    },
    {
      "cell_type": "markdown",
      "metadata": {
        "id": "ygG9xJw_J-dl"
      },
      "source": [
        "다음과 같이 두 개의 텐서를 만들었습니다."
      ]
    },
    {
      "cell_type": "code",
      "metadata": {
        "colab": {
          "base_uri": "https://localhost:8080/"
        },
        "id": "J6eeaYdOE0uk",
        "outputId": "e32629be-91ce-41ca-da05-1db8c94a9624"
      },
      "source": [
        "tensor1 = torch.tensor([[[1, 2], [3, 4]], [[5, 6], [7, 8]]])\n",
        "print(tensor1)"
      ],
      "execution_count": 42,
      "outputs": [
        {
          "output_type": "stream",
          "name": "stdout",
          "text": [
            "tensor([[[1, 2],\n",
            "         [3, 4]],\n",
            "\n",
            "        [[5, 6],\n",
            "         [7, 8]]])\n"
          ]
        }
      ]
    },
    {
      "cell_type": "code",
      "metadata": {
        "colab": {
          "base_uri": "https://localhost:8080/"
        },
        "id": "1ihM870IJ1Ev",
        "outputId": "d22b8567-4a58-4879-c513-f526b4481359"
      },
      "source": [
        "tensor2 = torch.tensor([[[9, 10], [11, 12]], [[13, 14], [15, 16]]])\n",
        "print(tensor2)"
      ],
      "execution_count": 43,
      "outputs": [
        {
          "output_type": "stream",
          "name": "stdout",
          "text": [
            "tensor([[[ 9, 10],\n",
            "         [11, 12]],\n",
            "\n",
            "        [[13, 14],\n",
            "         [15, 16]]])\n"
          ]
        }
      ]
    },
    {
      "cell_type": "markdown",
      "metadata": {
        "id": "JYPLZyg9KAM9"
      },
      "source": [
        "##4-1. 텐서의 사칙연산"
      ]
    },
    {
      "cell_type": "markdown",
      "metadata": {
        "id": "Ri9PBXc2KBog"
      },
      "source": [
        "이번에는 텐서의 사칙 연산을 한 번 수행해봅시다."
      ]
    },
    {
      "cell_type": "code",
      "metadata": {
        "colab": {
          "base_uri": "https://localhost:8080/"
        },
        "id": "EQqbBqNdJ0SI",
        "outputId": "8a33cde1-b9e1-4cfa-ac0a-6166ce56e3eb"
      },
      "source": [
        "# 텐서의 덧셈\n",
        "tensor1 + tensor2"
      ],
      "execution_count": 44,
      "outputs": [
        {
          "output_type": "execute_result",
          "data": {
            "text/plain": [
              "tensor([[[10, 12],\n",
              "         [14, 16]],\n",
              "\n",
              "        [[18, 20],\n",
              "         [22, 24]]])"
            ]
          },
          "metadata": {},
          "execution_count": 44
        }
      ]
    },
    {
      "cell_type": "code",
      "metadata": {
        "colab": {
          "base_uri": "https://localhost:8080/"
        },
        "id": "gMCHfZL5KJOS",
        "outputId": "dd9c65a1-4342-42e3-e040-cdd411704478"
      },
      "source": [
        "# 텐서의 뺄셈\n",
        "tensor1 - tensor2"
      ],
      "execution_count": 45,
      "outputs": [
        {
          "output_type": "execute_result",
          "data": {
            "text/plain": [
              "tensor([[[-8, -8],\n",
              "         [-8, -8]],\n",
              "\n",
              "        [[-8, -8],\n",
              "         [-8, -8]]])"
            ]
          },
          "metadata": {},
          "execution_count": 45
        }
      ]
    },
    {
      "cell_type": "code",
      "metadata": {
        "colab": {
          "base_uri": "https://localhost:8080/"
        },
        "id": "S8CF-BJvKKnW",
        "outputId": "1f090947-bc98-4c02-8d3c-fbda051e11cc"
      },
      "source": [
        "# 텐서의 나눗셈\n",
        "tensor1 / tensor2"
      ],
      "execution_count": 46,
      "outputs": [
        {
          "output_type": "execute_result",
          "data": {
            "text/plain": [
              "tensor([[[0.1111, 0.2000],\n",
              "         [0.2727, 0.3333]],\n",
              "\n",
              "        [[0.3846, 0.4286],\n",
              "         [0.4667, 0.5000]]])"
            ]
          },
          "metadata": {},
          "execution_count": 46
        }
      ]
    },
    {
      "cell_type": "code",
      "metadata": {
        "colab": {
          "base_uri": "https://localhost:8080/"
        },
        "id": "LJ0ln-I8KMtu",
        "outputId": "4e909c18-5863-44ce-dcfb-5c141d89707d"
      },
      "source": [
        "# 텐서의 곱셈\n",
        "tensor1 * tensor2"
      ],
      "execution_count": 47,
      "outputs": [
        {
          "output_type": "execute_result",
          "data": {
            "text/plain": [
              "tensor([[[  9,  20],\n",
              "         [ 33,  48]],\n",
              "\n",
              "        [[ 65,  84],\n",
              "         [105, 128]]])"
            ]
          },
          "metadata": {},
          "execution_count": 47
        }
      ]
    },
    {
      "cell_type": "markdown",
      "metadata": {
        "id": "b8cuuAxzKTH2"
      },
      "source": [
        "파이토치에서 제공하는 연산 함수를 통해서 사칙 연산을 수행할 수도 있습니다."
      ]
    },
    {
      "cell_type": "code",
      "metadata": {
        "colab": {
          "base_uri": "https://localhost:8080/"
        },
        "id": "1lGtR76OKOmO",
        "outputId": "f4ae6c97-a79b-415b-8663-86bafd723457"
      },
      "source": [
        "# 텐서의 덧셈\n",
        "torch.add(tensor1, tensor2)"
      ],
      "execution_count": 48,
      "outputs": [
        {
          "output_type": "execute_result",
          "data": {
            "text/plain": [
              "tensor([[[10, 12],\n",
              "         [14, 16]],\n",
              "\n",
              "        [[18, 20],\n",
              "         [22, 24]]])"
            ]
          },
          "metadata": {},
          "execution_count": 48
        }
      ]
    },
    {
      "cell_type": "code",
      "metadata": {
        "colab": {
          "base_uri": "https://localhost:8080/"
        },
        "id": "QSmZVz_xKYy_",
        "outputId": "6e258195-2f04-483c-9f84-beb12a175488"
      },
      "source": [
        "# 텐서의 뺄셈\n",
        "torch.sub(tensor1, tensor2)"
      ],
      "execution_count": null,
      "outputs": [
        {
          "output_type": "execute_result",
          "data": {
            "text/plain": [
              "tensor([[[-8, -8],\n",
              "         [-8, -8]],\n",
              "\n",
              "        [[-8, -8],\n",
              "         [-8, -8]]])"
            ]
          },
          "metadata": {},
          "execution_count": 49
        }
      ]
    },
    {
      "cell_type": "code",
      "metadata": {
        "colab": {
          "base_uri": "https://localhost:8080/"
        },
        "id": "-hJmuOG5KZq-",
        "outputId": "ba575263-c770-4f50-8dd8-1b5442a913dc"
      },
      "source": [
        "# 텐서의 원소별 곱셈\n",
        "torch.mul(tensor1, tensor2)"
      ],
      "execution_count": null,
      "outputs": [
        {
          "output_type": "execute_result",
          "data": {
            "text/plain": [
              "tensor([[[  9,  20],\n",
              "         [ 33,  48]],\n",
              "\n",
              "        [[ 65,  84],\n",
              "         [105, 128]]])"
            ]
          },
          "metadata": {},
          "execution_count": 50
        }
      ]
    },
    {
      "cell_type": "code",
      "metadata": {
        "colab": {
          "base_uri": "https://localhost:8080/"
        },
        "id": "REcLtD34Ka2f",
        "outputId": "d765644d-6c47-42f2-f6ff-62d996f979b6"
      },
      "source": [
        "# 텐서의 나눗셈\n",
        "torch.div(tensor1, tensor2)"
      ],
      "execution_count": null,
      "outputs": [
        {
          "output_type": "execute_result",
          "data": {
            "text/plain": [
              "tensor([[[0.1111, 0.2000],\n",
              "         [0.2727, 0.3333]],\n",
              "\n",
              "        [[0.3846, 0.4286],\n",
              "         [0.4667, 0.5000]]])"
            ]
          },
          "metadata": {},
          "execution_count": 51
        }
      ]
    },
    {
      "cell_type": "markdown",
      "metadata": {
        "id": "tXqWazyRKh1I"
      },
      "source": [
        "## 4-2. 텐서의 곱셈"
      ]
    },
    {
      "cell_type": "markdown",
      "metadata": {
        "id": "i0l9aX9XKtm_"
      },
      "source": [
        "벡터의 내적, 행렬의 곱셈과 마찬가지로 우리는 텐서의 곱셈 또한 가능합니다.  \n",
        "기본적으로 원리는 행렬의 곱셈입니다."
      ]
    },
    {
      "cell_type": "code",
      "metadata": {
        "colab": {
          "base_uri": "https://localhost:8080/"
        },
        "id": "Kw6IgV0BKcTW",
        "outputId": "4b2cb59d-b5a7-4cbc-ca63-4a249a04fa84"
      },
      "source": [
        "torch.matmul(tensor1, tensor2)"
      ],
      "execution_count": null,
      "outputs": [
        {
          "output_type": "execute_result",
          "data": {
            "text/plain": [
              "tensor([[[ 31,  34],\n",
              "         [ 71,  78]],\n",
              "\n",
              "        [[155, 166],\n",
              "         [211, 226]]])"
            ]
          },
          "metadata": {},
          "execution_count": 52
        }
      ]
    }
  ]
}