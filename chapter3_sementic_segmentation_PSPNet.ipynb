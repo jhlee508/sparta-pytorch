{
  "nbformat": 4,
  "nbformat_minor": 0,
  "metadata": {
    "colab": {
      "name": "chapter3_sementic_segmentation_PSPNet.ipynb",
      "provenance": [],
      "collapsed_sections": [],
      "toc_visible": true,
      "machine_shape": "hm",
      "authorship_tag": "ABX9TyNQMMrOjUgCdJgsylEQbrjo",
      "include_colab_link": true
    },
    "kernelspec": {
      "name": "python3",
      "display_name": "Python 3"
    },
    "language_info": {
      "name": "python"
    },
    "accelerator": "GPU"
  },
  "cells": [
    {
      "cell_type": "markdown",
      "metadata": {
        "id": "view-in-github",
        "colab_type": "text"
      },
      "source": [
        "<a href=\"https://colab.research.google.com/github/jhlee508/sparta-pytorch/blob/master/chapter3_sementic_segmentation_PSPNet.ipynb\" target=\"_parent\"><img src=\"https://colab.research.google.com/assets/colab-badge.svg\" alt=\"Open In Colab\"/></a>"
      ]
    },
    {
      "cell_type": "markdown",
      "source": [
        "### Git Clone"
      ],
      "metadata": {
        "id": "D_iaVnCRkv-c"
      }
    },
    {
      "cell_type": "code",
      "source": [
        "!git clone https://github.com/YutaroOgawa/pytorch_advanced.git"
      ],
      "metadata": {
        "colab": {
          "base_uri": "https://localhost:8080/"
        },
        "id": "x0kJ4nzEkxt4",
        "outputId": "cea00be0-4bf2-49e4-f130-717e44b742dd"
      },
      "execution_count": 1,
      "outputs": [
        {
          "output_type": "stream",
          "name": "stdout",
          "text": [
            "Cloning into 'pytorch_advanced'...\n",
            "remote: Enumerating objects: 548, done.\u001b[K\n",
            "remote: Counting objects: 100% (69/69), done.\u001b[K\n",
            "remote: Compressing objects: 100% (51/51), done.\u001b[K\n",
            "remote: Total 548 (delta 34), reused 45 (delta 18), pack-reused 479\u001b[K\n",
            "Receiving objects: 100% (548/548), 17.75 MiB | 33.35 MiB/s, done.\n",
            "Resolving deltas: 100% (293/293), done.\n"
          ]
        }
      ]
    },
    {
      "cell_type": "code",
      "source": [
        "%cd pytorch_advanced/"
      ],
      "metadata": {
        "colab": {
          "base_uri": "https://localhost:8080/"
        },
        "id": "LFK-77WSk1f-",
        "outputId": "bc58d68e-6963-40f6-8fb6-a08827866c44"
      },
      "execution_count": 2,
      "outputs": [
        {
          "output_type": "stream",
          "name": "stdout",
          "text": [
            "/content/pytorch_advanced\n"
          ]
        }
      ]
    },
    {
      "cell_type": "code",
      "source": [
        "!ls"
      ],
      "metadata": {
        "colab": {
          "base_uri": "https://localhost:8080/"
        },
        "id": "Gp5sQ7LJk7QQ",
        "outputId": "4ada41a6-ea70-40f8-ba26-96e9512c15b2"
      },
      "execution_count": 3,
      "outputs": [
        {
          "output_type": "stream",
          "name": "stdout",
          "text": [
            "1_image_classification\t 7_nlp_sentiment_transformer\n",
            "2_objectdetection\t 8_nlp_sentiment_bert\n",
            "3_semantic_segmentation  9_video_classification_eco\n",
            "4_pose_estimation\t etc\n",
            "5_gan_generation\t LICENSE\n",
            "6_gan_anomaly_detection  README.md\n"
          ]
        }
      ]
    },
    {
      "cell_type": "code",
      "source": [
        "%cd 3_semantic_segmentation/"
      ],
      "metadata": {
        "colab": {
          "base_uri": "https://localhost:8080/"
        },
        "id": "kSxOS3aYk9Gd",
        "outputId": "b1111fe0-b26c-4d76-db19-28edae927c37"
      },
      "execution_count": 4,
      "outputs": [
        {
          "output_type": "stream",
          "name": "stdout",
          "text": [
            "/content/pytorch_advanced/3_semantic_segmentation\n"
          ]
        }
      ]
    },
    {
      "cell_type": "code",
      "source": [
        "!pwd"
      ],
      "metadata": {
        "colab": {
          "base_uri": "https://localhost:8080/"
        },
        "id": "5WgB_aAboasn",
        "outputId": "bf3ff184-a112-4190-8cde-9e2010e4d304"
      },
      "execution_count": 5,
      "outputs": [
        {
          "output_type": "stream",
          "name": "stdout",
          "text": [
            "/content/pytorch_advanced/3_semantic_segmentation\n"
          ]
        }
      ]
    },
    {
      "cell_type": "code",
      "source": [
        "!ls"
      ],
      "metadata": {
        "colab": {
          "base_uri": "https://localhost:8080/"
        },
        "id": "tnJH0IQEk_fo",
        "outputId": "cade4dcf-8d24-402f-e62e-9740d751d8b9"
      },
      "execution_count": 6,
      "outputs": [
        {
          "output_type": "stream",
          "name": "stdout",
          "text": [
            "3-2_DataLoader.ipynb\t\t     3-8_PSPNet_inference.ipynb\n",
            "3-3-6_NetworkModel.ipynb\t     data\n",
            "3-7_PSPNet_training.ipynb\t     make_folders_and_data_downloads.ipynb\n",
            "3-8_PSPNet_inference_appendix.ipynb  utils\n"
          ]
        }
      ]
    },
    {
      "cell_type": "markdown",
      "source": [
        "### Make Folders and Data Downloads"
      ],
      "metadata": {
        "id": "afi6X4csWUj5"
      }
    },
    {
      "cell_type": "code",
      "execution_count": 7,
      "metadata": {
        "id": "s7TaGGQHTrMR"
      },
      "outputs": [],
      "source": [
        "import os\n",
        "import urllib.request\n",
        "import zipfile\n",
        "import tarfile"
      ]
    },
    {
      "cell_type": "code",
      "source": [
        "# \"data\" 폴더가 존재하지 않는 경우 작성한다\n",
        "data_dir = \"./data/\"\n",
        "if not os.path.exists(data_dir):\n",
        "    os.mkdir(data_dir)"
      ],
      "metadata": {
        "id": "TSJaSEfrWa2m"
      },
      "execution_count": 8,
      "outputs": []
    },
    {
      "cell_type": "code",
      "source": [
        "# \"weights\" 폴더가 존재하지 않는 경우 작성한다\n",
        "weights_dir = \"./weights/\"\n",
        "if not os.path.exists(weights_dir):\n",
        "    os.mkdir(weights_dir)"
      ],
      "metadata": {
        "id": "kp6fYAT_WchS"
      },
      "execution_count": 9,
      "outputs": []
    },
    {
      "cell_type": "code",
      "source": [
        "# VOC2012의 데이터 세트를 다운로드합니다\n",
        "# 시간이 걸립니다(약 15분)\n",
        "url = \"http://host.robots.ox.ac.uk/pascal/VOC/voc2012/VOCtrainval_11-May-2012.tar\"\n",
        "target_path = os.path.join(data_dir, \"VOCtrainval_11-May-2012.tar\") \n",
        "\n",
        "if not os.path.exists(target_path):\n",
        "    urllib.request.urlretrieve(url, target_path)\n",
        "    \n",
        "    tar = tarfile.TarFile(target_path)  # tar 파일 읽기\n",
        "    tar.extractall(data_dir)  # tar 파일 압축 해제\n",
        "    tar.close()  # tar 파일 닫기"
      ],
      "metadata": {
        "id": "ETLeP1YdWeFL"
      },
      "execution_count": 10,
      "outputs": []
    },
    {
      "cell_type": "code",
      "source": [
        "# \"weights\" 폴더에 네트워크의 초기치로써 사용할 \"pspnet50_ADE20K.pth\"를\n",
        "# 필자의 Google Drive에서 다운로드\n",
        "\n",
        "file_id=\"12eN6SpnawYuQmD1k9VgVW3QSgPR6hICc\"\n",
        "file_name=\"pspnet50_ADE20K.pth\"\n",
        "\n",
        "!curl -sc /tmp/cookie \"https://drive.google.com/uc?export=download&id=12eN6SpnawYuQmD1k9VgVW3QSgPR6hICc\" > /dev/null\n",
        "!curl -Lb /tmp/cookie \"https://drive.google.com/uc?export=download&confirm=$(awk '/_warning_/ {print $NF}' /tmp/cookie)&id=12eN6SpnawYuQmD1k9VgVW3QSgPR6hICc\" -o \"pspnet50_ADE20K.pth\"\n",
        "\n",
        "!mv pspnet50_ADE20K.pth ./weights"
      ],
      "metadata": {
        "colab": {
          "base_uri": "https://localhost:8080/"
        },
        "id": "VGKmms36XMR1",
        "outputId": "6e8f5fbf-0c3c-4931-9f8c-fb3b15e60629"
      },
      "execution_count": 44,
      "outputs": [
        {
          "output_type": "stream",
          "name": "stdout",
          "text": [
            "  % Total    % Received % Xferd  Average Speed   Time    Time     Time  Current\n",
            "                                 Dload  Upload   Total   Spent    Left  Speed\n",
            "\r  0     0    0     0    0     0      0      0 --:--:-- --:--:-- --:--:--     0\r100   408    0   408    0     0   3187      0 --:--:-- --:--:-- --:--:--  3187\n",
            "  0     0    0     0    0     0      0      0 --:--:-- --:--:-- --:--:--     0\n",
            "  0     0    0     0    0     0      0      0 --:--:-- --:--:-- --:--:--     0\n",
            "100  187M  100  187M    0     0   110M      0  0:00:01  0:00:01 --:--:--  160M\n"
          ]
        }
      ]
    },
    {
      "cell_type": "code",
      "source": [
        "# (필자가 작성한) 학습된 PSPNet 모델 \"pspnet50_30.pth\"\n",
        "# 반드시 다운로드할 필요는 없지만,\n",
        "# PSPNet을 학습하기 전에, 학습된 모델을 미리 시도해보는 경우,\n",
        "# 위 링크에서 다운로드한 \"pspnet50_30.pth\" 파일을 \"weights\" 폴더에 배치합니다.\n",
        "\n",
        "file_id=\"192JenT9UTHjFb6fhwSdRgOWr8_RmDl4I\"\n",
        "file_name=\"pspnet50_30.pth\"\n",
        "\n",
        "!curl -sc /tmp/cookie \"https://drive.google.com/uc?export=download&id=192JenT9UTHjFb6fhwSdRgOWr8_RmDl4I\" > /dev/null\n",
        "!curl -Lb /tmp/cookie \"https://drive.google.com/uc?export=download&confirm=$(awk '/_warning_/ {print $NF}' /tmp/cookie)&id=192JenT9UTHjFb6fhwSdRgOWr8_RmDl4I\" -o \"pspnet50_30.pth\"\n",
        "\n",
        "!mv pspnet50_30.pth ./weights"
      ],
      "metadata": {
        "colab": {
          "base_uri": "https://localhost:8080/"
        },
        "id": "i9E-hfQ5bX7b",
        "outputId": "e359a688-f623-4786-d1b4-95a223618bfa"
      },
      "execution_count": 43,
      "outputs": [
        {
          "output_type": "stream",
          "name": "stdout",
          "text": [
            "  % Total    % Received % Xferd  Average Speed   Time    Time     Time  Current\n",
            "                                 Dload  Upload   Total   Spent    Left  Speed\n",
            "\r  0     0    0     0    0     0      0      0 --:--:-- --:--:-- --:--:--     0\r100   408    0   408    0     0   4039      0 --:--:-- --:--:-- --:--:--  4039\n",
            "\r  0     0    0     0    0     0      0      0 --:--:-- --:--:-- --:--:--     0\n",
            "  0     0    0     0    0     0      0      0 --:--:-- --:--:-- --:--:--     0\n",
            "100  187M  100  187M    0     0   215M      0 --:--:-- --:--:-- --:--:--  333M\n"
          ]
        }
      ]
    },
    {
      "cell_type": "markdown",
      "source": [
        "※미리 실시된 내용\n",
        "승마 화상 다운로드\n",
        "\n",
        "https://pixabay.com/ja/photos/%E3%82%AB%E3%82%A6%E3%83%9C%E3%83%BC%E3%82%A4-%E9%A6%AC-%E4%B9%97%E9%A6%AC-%E6%B0%B4-%E6%B5%B7-757575/\n",
        "640×426 크기의 화상을 \"data\" 폴더에 배치\n",
        "(사진의 권리 정보: 상업적 사용 무료, 저작자 표시가 필요하지 않습니다)"
      ],
      "metadata": {
        "id": "h7MBknNuXylw"
      }
    },
    {
      "cell_type": "markdown",
      "source": [
        "# Chapter3. 시멘틱 분할(PSPNet)"
      ],
      "metadata": {
        "id": "y1BdbVduYQe5"
      }
    },
    {
      "cell_type": "markdown",
      "source": [
        "### Import Libraries"
      ],
      "metadata": {
        "id": "BcnHbY2TlRF5"
      }
    },
    {
      "cell_type": "code",
      "source": [
        "# 패키지 import\n",
        "import os.path as osp\n",
        "from PIL import Image\n",
        "\n",
        "import torch.utils.data as data\n",
        "\n",
        "# Network Module\n",
        "import torch\n",
        "import torch.nn as nn\n",
        "import torch.nn.functional as F"
      ],
      "metadata": {
        "id": "Bs6ene_4lX67"
      },
      "execution_count": 63,
      "outputs": []
    },
    {
      "cell_type": "markdown",
      "source": [
        "### Image and Annotation data to List\n",
        "- 화상 데이터, 어노테이션 데이터의 파일 경로 리스트 작성\n",
        "\n"
      ],
      "metadata": {
        "id": "tYVQuGoXlREK"
      }
    },
    {
      "cell_type": "code",
      "source": [
        "def make_datapath_list(rootpath):\n",
        "    \"\"\"\n",
        "    학습, 검증용 화상 데이터와 어노테이션 데이터의 파일 경로 리스트를 작성한다.\n",
        "\n",
        "    Parameters\n",
        "    ----------\n",
        "    rootpath : str\n",
        "        데이터 폴더의 경로\n",
        "\n",
        "    Returns\n",
        "    -------\n",
        "    ret : train_img_list, train_anno_list, val_img_list, val_anno_list\n",
        "        데이터의 경로를 저장한 리스트\n",
        "    \"\"\"\n",
        "\n",
        "    # 화상 파일과 어노테이션 파일의 경로 템플릿을 작성\n",
        "    imgpath_template = osp.join(rootpath, 'JPEGImages', '%s.jpg')\n",
        "    annopath_template = osp.join(rootpath, 'SegmentationClass', '%s.png')\n",
        "\n",
        "    # 훈련 및 검증 파일 각각의 ID(파일 이름)를 취득\n",
        "    train_id_names = osp.join(rootpath + 'ImageSets/Segmentation/train.txt')\n",
        "    val_id_names = osp.join(rootpath + 'ImageSets/Segmentation/val.txt')\n",
        "\n",
        "    # 훈련 데이터의 화상 파일과 어노테이션 파일의 경로 리스트를 작성\n",
        "    train_img_list = list()\n",
        "    train_anno_list = list()\n",
        "\n",
        "    for line in open(train_id_names):\n",
        "        file_id = line.strip()  # 공백과 줄바꿈 제거\n",
        "        img_path = (imgpath_template % file_id)  # 화상의 경로\n",
        "        anno_path = (annopath_template % file_id)  # 어노테이션의 경로\n",
        "        train_img_list.append(img_path)\n",
        "        train_anno_list.append(anno_path)\n",
        "\n",
        "    # 검증 데이터의 화상 파일과 어노테이션 파일의 경로 리스트 작성\n",
        "    val_img_list = list()\n",
        "    val_anno_list = list()\n",
        "\n",
        "    for line in open(val_id_names):\n",
        "        file_id = line.strip()  # 공백과 줄바꿈 제거\n",
        "        img_path = (imgpath_template % file_id)  # 화상의 경로\n",
        "        anno_path = (annopath_template % file_id)  # 어노테이션의 경로\n",
        "        val_img_list.append(img_path)\n",
        "        val_anno_list.append(anno_path)\n",
        "\n",
        "    return train_img_list, train_anno_list, val_img_list, val_anno_list"
      ],
      "metadata": {
        "id": "9S6l0zHPlPt0"
      },
      "execution_count": 46,
      "outputs": []
    },
    {
      "cell_type": "code",
      "source": [
        "# 동작 확인: 파일 경로 리스트를 취득\n",
        "rootpath = \"./data/VOCdevkit/VOC2012/\"\n",
        "\n",
        "train_img_list, train_anno_list, val_img_list, val_anno_list = make_datapath_list(\n",
        "    rootpath=rootpath)\n",
        "\n",
        "print(train_img_list[0])\n",
        "print(train_anno_list[0])"
      ],
      "metadata": {
        "colab": {
          "base_uri": "https://localhost:8080/"
        },
        "id": "9bUdw7V1lPsW",
        "outputId": "6f782d26-907f-4663-c9f0-f2aac2288089"
      },
      "execution_count": 47,
      "outputs": [
        {
          "output_type": "stream",
          "name": "stdout",
          "text": [
            "./data/VOCdevkit/VOC2012/JPEGImages/2007_000032.jpg\n",
            "./data/VOCdevkit/VOC2012/SegmentationClass/2007_000032.png\n"
          ]
        }
      ]
    },
    {
      "cell_type": "markdown",
      "source": [
        "### Dataset"
      ],
      "metadata": {
        "id": "n7jnZWIwl1pj"
      }
    },
    {
      "cell_type": "code",
      "source": [
        "# 데이터 처리 클래스와 데이터 확장 클래스를 import\n",
        "from utils.data_augumentation import Compose, Scale, RandomRotation, RandomMirror, Resize, Normalize_Tensor\n",
        "\n",
        "class DataTransform():\n",
        "    \"\"\"\n",
        "    화상과 어노테이션의 전처리 클래스. 훈련시와 검증시 다르게 동작한다.\n",
        "    화상의 크기를 input_size x input_size로 한다.\n",
        "    훈련시에 데이터 확장을 수행한다.\n",
        "\n",
        "    Attributes\n",
        "    ----------\n",
        "    input_size : int\n",
        "        리사이즈 대상 화상의 크기.\n",
        "    color_mean : (R, G, B)\n",
        "        각 색상 채널의 평균값.\n",
        "    color_std : (R, G, B)\n",
        "        각 색상 채널의 표준편차.\n",
        "    \"\"\"\n",
        "\n",
        "    def __init__(self, input_size, color_mean, color_std):\n",
        "        self.data_transform = {\n",
        "            'train': Compose([\n",
        "                Scale(scale=[0.5, 1.5]),  # 화상의 확대\n",
        "                RandomRotation(angle=[-10, 10]),  # 회전\n",
        "                RandomMirror(),  # 랜덤 미러\n",
        "                Resize(input_size),  # 리사이즈(input_size)\n",
        "                Normalize_Tensor(color_mean, color_std)  # 색상 정보의 표준화와 텐서화\n",
        "            ]),\n",
        "            'val': Compose([\n",
        "                Resize(input_size),  # 리사이즈(input_size)\n",
        "                Normalize_Tensor(color_mean, color_std)  # 색상 정보의 표준화와 텐서화\n",
        "            ])\n",
        "        }\n",
        "\n",
        "    def __call__(self, phase, img, anno_class_img):\n",
        "        \"\"\"\n",
        "        Parameters\n",
        "        ----------\n",
        "        phase : 'train' or 'val'\n",
        "            전처리 모드를 지정.\n",
        "        \"\"\"\n",
        "        return self.data_transform[phase](img, anno_class_img)"
      ],
      "metadata": {
        "id": "eBJnEh0ol7C-"
      },
      "execution_count": 48,
      "outputs": []
    },
    {
      "cell_type": "code",
      "source": [
        "class VOCDataset(data.Dataset):\n",
        "    \"\"\"\n",
        "    VOC2012의 Dataset을 만드는 클래스. PyTorch의 Dataset 클래스를 상속받는다.\n",
        "\n",
        "    Attributes\n",
        "    ----------\n",
        "    img_list : 리스트\n",
        "        어노테이션의 경로를 저장한 리스트\n",
        "    anno_list : 리스트\n",
        "        어노테이션의 경로를 저장한 리스트\n",
        "    phase : 'train' or 'test'\n",
        "        학습 또는 훈련을 설정한다.\n",
        "    transform : object\n",
        "        전처리 클래스의 인스턴스\n",
        "    \"\"\"\n",
        "\n",
        "    def __init__(self, img_list, anno_list, phase, transform):\n",
        "        self.img_list = img_list\n",
        "        self.anno_list = anno_list\n",
        "        self.phase = phase\n",
        "        self.transform = transform\n",
        "\n",
        "    def __len__(self):\n",
        "        '''화상의 매수를 반환'''\n",
        "        return len(self.img_list)\n",
        "\n",
        "    def __getitem__(self, index):\n",
        "        '''\n",
        "        전처리한 화상의 텐서 형식 데이터와 어노테이션을 취득\n",
        "        '''\n",
        "        img, anno_class_img = self.pull_item(index)\n",
        "        return img, anno_class_img\n",
        "\n",
        "    def pull_item(self, index):\n",
        "        '''화상의 텐서 형식 데이터, 어노테이션을 취득한다'''\n",
        "\n",
        "        # 1. 화상 읽기\n",
        "        image_file_path = self.img_list[index]\n",
        "        img = Image.open(image_file_path)   # [높이][폭][색RGB]\n",
        "\n",
        "        # 2. 어노테이션 화상 읽기\n",
        "        anno_file_path = self.anno_list[index]\n",
        "        anno_class_img = Image.open(anno_file_path)   # [높이][폭]\n",
        "\n",
        "        # 3. 전처리 실시\n",
        "        img, anno_class_img = self.transform(self.phase, img, anno_class_img)\n",
        "\n",
        "        return img, anno_class_img"
      ],
      "metadata": {
        "id": "AGPFlMEcl92g"
      },
      "execution_count": 49,
      "outputs": []
    },
    {
      "cell_type": "code",
      "source": [
        "# 동작 확인\n",
        "\n",
        "# (RGB) 색의 평균치와 표준편차\n",
        "color_mean = (0.485, 0.456, 0.406)\n",
        "color_std = (0.229, 0.224, 0.225)\n",
        "\n",
        "# 데이터 세트 작성\n",
        "train_dataset = VOCDataset(train_img_list, train_anno_list, phase=\"train\", transform=DataTransform(\n",
        "    input_size=475, color_mean=color_mean, color_std=color_std))\n",
        "\n",
        "val_dataset = VOCDataset(val_img_list, val_anno_list, phase=\"val\", transform=DataTransform(\n",
        "    input_size=475, color_mean=color_mean, color_std=color_std))\n",
        "\n",
        "# 데이터를 추출하는 예\n",
        "print(\"이미지 데이터셋 shape:\", val_dataset.__getitem__(0)[0].shape)\n",
        "print(\"어노테이션 데이터셋 shape:\", val_dataset.__getitem__(0)[1].shape)\n",
        "print(val_dataset.__getitem__(0)[0])\n",
        "print(val_dataset.__getitem__(0)[1])"
      ],
      "metadata": {
        "colab": {
          "base_uri": "https://localhost:8080/"
        },
        "id": "oqGkNyFql_Dr",
        "outputId": "18438822-9e4d-49a4-97b8-73fe4cead2c6"
      },
      "execution_count": 52,
      "outputs": [
        {
          "output_type": "stream",
          "name": "stdout",
          "text": [
            "이미지 데이터셋 shape: torch.Size([3, 475, 475])\n",
            "어노테이션 데이터셋 shape: torch.Size([475, 475])\n",
            "tensor([[[ 1.6667,  1.5125,  1.5639,  ...,  1.7523,  1.6667,  1.7009],\n",
            "         [ 1.5810,  1.4269,  1.4783,  ...,  1.7009,  1.6153,  1.6495],\n",
            "         [ 1.5639,  1.4098,  1.4440,  ...,  1.6838,  1.5982,  1.6324],\n",
            "         ...,\n",
            "         [-0.4739, -0.4911, -0.5424,  ...,  1.2557,  1.1872,  1.2214],\n",
            "         [-0.5596, -0.4911, -0.4911,  ...,  1.2385,  1.1872,  1.2214],\n",
            "         [-0.6281, -0.3883, -0.3369,  ...,  1.2385,  1.1872,  1.2214]],\n",
            "\n",
            "        [[ 1.8333,  1.6758,  1.7283,  ...,  1.9209,  1.8333,  1.8683],\n",
            "         [ 1.7458,  1.5882,  1.6408,  ...,  1.8683,  1.7808,  1.8158],\n",
            "         [ 1.7283,  1.5707,  1.6057,  ...,  1.8508,  1.7633,  1.7983],\n",
            "         ...,\n",
            "         [-0.5826, -0.6001, -0.6527,  ...,  1.4132,  1.3431,  1.3431],\n",
            "         [-0.6702, -0.6001, -0.6001,  ...,  1.3957,  1.3431,  1.3431],\n",
            "         [-0.7402, -0.4951, -0.4426,  ...,  1.3957,  1.3431,  1.3431]],\n",
            "\n",
            "        [[ 2.0474,  1.8905,  1.9428,  ...,  2.1346,  2.0474,  2.0823],\n",
            "         [ 1.9603,  1.8034,  1.8557,  ...,  2.0823,  1.9951,  2.0300],\n",
            "         [ 1.9428,  1.7860,  1.8208,  ...,  2.0648,  1.9777,  2.0125],\n",
            "         ...,\n",
            "         [-0.6367, -0.6541, -0.7064,  ...,  1.6291,  1.5594,  1.5768],\n",
            "         [-0.7238, -0.6541, -0.6541,  ...,  1.6117,  1.5594,  1.5768],\n",
            "         [-0.7936, -0.5495, -0.4973,  ...,  1.6117,  1.5594,  1.5768]]])\n",
            "tensor([[0, 0, 0,  ..., 0, 0, 0],\n",
            "        [0, 0, 0,  ..., 0, 0, 0],\n",
            "        [0, 0, 0,  ..., 0, 0, 0],\n",
            "        ...,\n",
            "        [0, 0, 0,  ..., 0, 0, 0],\n",
            "        [0, 0, 0,  ..., 0, 0, 0],\n",
            "        [0, 0, 0,  ..., 0, 0, 0]], dtype=torch.uint8)\n"
          ]
        }
      ]
    },
    {
      "cell_type": "markdown",
      "source": [
        "### DataLoader"
      ],
      "metadata": {
        "id": "CjlmVdLIpKH8"
      }
    },
    {
      "cell_type": "code",
      "source": [
        "# 데이터 로더 작성\n",
        "batch_size = 8\n",
        "\n",
        "train_dataloader = data.DataLoader(\n",
        "    train_dataset, batch_size=batch_size, shuffle=True)\n",
        "\n",
        "val_dataloader = data.DataLoader(\n",
        "    val_dataset, batch_size=batch_size, shuffle=False)\n",
        "\n",
        "# 사전 오브젝트로 정리한다\n",
        "dataloaders_dict = {\"train\": train_dataloader, \"val\": val_dataloader}\n",
        "\n",
        "# 동작 확인\n",
        "batch_iterator = iter(dataloaders_dict[\"val\"])  # 반복자로 변환\n",
        "imges, anno_class_imges = next(batch_iterator)  # 첫번째 요소를 꺼낸다\n",
        "print(imges.size())  # torch.Size([8, 3, 475, 475])\n",
        "print(anno_class_imges.size())  # torch.Size([8, 3, 475, 475])"
      ],
      "metadata": {
        "colab": {
          "base_uri": "https://localhost:8080/"
        },
        "id": "wpmBlppupFdn",
        "outputId": "cfe3410b-27b5-407b-8043-72f497ed083e"
      },
      "execution_count": 53,
      "outputs": [
        {
          "output_type": "stream",
          "name": "stdout",
          "text": [
            "torch.Size([8, 3, 475, 475])\n",
            "torch.Size([8, 475, 475])\n"
          ]
        }
      ]
    },
    {
      "cell_type": "markdown",
      "source": [
        "### 부록\n",
        "- Dataset에서 화상을 추출해 화면에 그리기"
      ],
      "metadata": {
        "id": "fTryXPwPpmuX"
      }
    },
    {
      "cell_type": "code",
      "source": [
        "import numpy as np\n",
        "import matplotlib.pyplot as plt\n",
        "%matplotlib inline"
      ],
      "metadata": {
        "id": "VN2aQ0e0pmWq"
      },
      "execution_count": 54,
      "outputs": []
    },
    {
      "cell_type": "markdown",
      "source": [
        "#### Sample Train Image"
      ],
      "metadata": {
        "id": "rdr_Ooibp4JN"
      }
    },
    {
      "cell_type": "code",
      "source": [
        "# 실행할 때마다 바뀝니다\n",
        "\n",
        "# 화상 데이터 읽기\n",
        "index = 0\n",
        "imges, anno_class_imges = train_dataset.__getitem__(index)\n",
        "\n",
        "# 화상 표시\n",
        "img_train = imges\n",
        "img_train = img_train.numpy().transpose((1, 2, 0))\n",
        "plt.imshow(img_train)\n",
        "plt.show()\n",
        "\n",
        "# 어노테이션 화상 표시\n",
        "anno_file_path = train_anno_list[0]\n",
        "anno_class_img = Image.open(anno_file_path)   # [높이][폭][색RGB]\n",
        "p_palette = anno_class_img.getpalette()\n",
        "\n",
        "anno_class_img_train = anno_class_imges.numpy()\n",
        "anno_class_img_train = Image.fromarray(np.uint8(anno_class_img_train), mode=\"P\")\n",
        "anno_class_img_train.putpalette(p_palette)\n",
        "plt.imshow(anno_class_img_train)\n",
        "plt.show()"
      ],
      "metadata": {
        "colab": {
          "base_uri": "https://localhost:8080/",
          "height": 539
        },
        "id": "6fgK2T4jpmVP",
        "outputId": "dd961807-2829-4f4d-c7a2-daa8d3687b83"
      },
      "execution_count": 58,
      "outputs": [
        {
          "output_type": "stream",
          "name": "stderr",
          "text": [
            "Clipping input data to the valid range for imshow with RGB data ([0..1] for floats or [0..255] for integers).\n"
          ]
        },
        {
          "output_type": "display_data",
          "data": {
            "image/png": "[encoded data removed]",
            "text/plain": [
              "<Figure size 432x288 with 1 Axes>"
            ]
          },
          "metadata": {
            "needs_background": "light"
          }
        },
        {
          "output_type": "display_data",
          "data": {
            "image/png": "[encoded data removed]",
            "text/plain": [
              "<Figure size 432x288 with 1 Axes>"
            ]
          },
          "metadata": {
            "needs_background": "light"
          }
        }
      ]
    },
    {
      "cell_type": "markdown",
      "source": [
        "#### Sample Val Image"
      ],
      "metadata": {
        "id": "p2u0JsA3p4Hn"
      }
    },
    {
      "cell_type": "code",
      "source": [
        "# 화상 데이터 읽기\n",
        "index = 0\n",
        "imges, anno_class_imges = val_dataset.__getitem__(index)\n",
        "\n",
        "# 화상 표시\n",
        "img_val = imges\n",
        "img_val = img_val.numpy().transpose((1, 2, 0))\n",
        "plt.imshow(img_val)\n",
        "plt.show()\n",
        "\n",
        "# 어노테이션 화상 표시\n",
        "anno_file_path = train_anno_list[0]\n",
        "anno_class_img = Image.open(anno_file_path)   # [높이][폭][색RGB]\n",
        "p_palette = anno_class_img.getpalette()\n",
        "\n",
        "anno_class_img_val = anno_class_imges.numpy()\n",
        "anno_class_img_val = Image.fromarray(np.uint8(anno_class_img_val), mode=\"P\")\n",
        "anno_class_img_val.putpalette(p_palette)\n",
        "plt.imshow(anno_class_img_val)\n",
        "plt.show()"
      ],
      "metadata": {
        "colab": {
          "base_uri": "https://localhost:8080/",
          "height": 539
        },
        "id": "36VyLYBMp-hH",
        "outputId": "c39023f4-afb0-4124-df04-d915d08e226b"
      },
      "execution_count": 59,
      "outputs": [
        {
          "output_type": "stream",
          "name": "stderr",
          "text": [
            "Clipping input data to the valid range for imshow with RGB data ([0..1] for floats or [0..255] for integers).\n"
          ]
        },
        {
          "output_type": "display_data",
          "data": {
            "image/png": "[encoded data removed]",
            "text/plain": [
              "<Figure size 432x288 with 1 Axes>"
            ]
          },
          "metadata": {
            "needs_background": "light"
          }
        },
        {
          "output_type": "display_data",
          "data": {
            "image/png": "[encoded data removed]",
            "text/plain": [
              "<Figure size 432x288 with 1 Axes>"
            ]
          },
          "metadata": {
            "needs_background": "light"
          }
        }
      ]
    },
    {
      "cell_type": "markdown",
      "source": [
        "### PSPNet Class"
      ],
      "metadata": {
        "id": "Je7RN--RqesO"
      }
    },
    {
      "cell_type": "code",
      "source": [
        "class PSPNet(nn.Module):\n",
        "    def __init__(self, n_classes):\n",
        "        super().__init__()\n",
        "\n",
        "        # 파라미터 설정\n",
        "        block_config = [3, 4, 6, 3] # resnet50\n",
        "        img_size = 475\n",
        "        img_size_8 = 60 # img_size의 약 1/8로 설정\n",
        "\n",
        "        # 네 개의 모듈을 구성하는 서브 네트워크 준비\n",
        "        # Feature 모듈 (Encoder)\n",
        "        self.feature_conv = FeatureMap_convolution() \n",
        "        self.feature_res_1 = ResidualBlockPSP(\n",
        "            n_blocks=block_config[0], in_channels=128, mid_channels=64,\n",
        "            out_channels=256, stride=1, dilation=1)\n",
        "        self.feature_res_2 = ResidualBlockPSP(\n",
        "            n_blocks=block_config[1], in_channels=256, mid_channels=128,\n",
        "            out_channels=512, stride=2, dilation=1)\n",
        "        self.feature_dilated_res_1 = ResidualBlockPSP(\n",
        "            n_blocks=block_config[2], in_channels=512, mid_channels=256,\n",
        "            out_channels=1024, stride=1, dilation=2)\n",
        "        self.feature_dilated_res_2 = ResidualBlockPSP(\n",
        "            n_blocks=block_config[3], in_channels=1024, mid_channels=512,\n",
        "            out_channels=2048, stride=1, dilation=4)\n",
        "        \n",
        "        # Pyramid Pooling 모듈 (서브 네트워크)\n",
        "        self.pyramid_pooling = PyramidPooling(in_channels=2048, pool_sizes=[\n",
        "            6, 3, 2, 1], height=img_size_8, width=img_size_8)\n",
        "        \n",
        "        # Decoder 모듈 (서브 네트워크)\n",
        "        self.decode_feature = DecodePSPFeature(\n",
        "            height=img_size, width=img_size, n_classes=n_classes)\n",
        "        \n",
        "        # AuxLoss 모듈 (서브 네트워크)\n",
        "        self.aux = AuxiliaryPSPlayers(\n",
        "            in_channels=1024, height=img_size, width=img_size, n_classes=n_classes)\n",
        "        \n",
        "    def forward(self, x):\n",
        "        x = self.feature_conv(x)\n",
        "        x = self.feature_res_1(x)\n",
        "        x = self.feature_res_2(x)\n",
        "        x = self.feature_dilated_res_1(x)\n",
        "\n",
        "        output_aux = self.aux(x)  # Feature 모듈의 중간을 Aux 모듈로 사용\n",
        "\n",
        "        x = self.feature_dilated_res_2(x)\n",
        "\n",
        "        x = self.pyramid_pooling(x)\n",
        "        output = self.decode_feature(x)\n",
        "\n",
        "        return (output, output_aux)"
      ],
      "metadata": {
        "id": "v3-XAf8K8LHb"
      },
      "execution_count": 64,
      "outputs": []
    },
    {
      "cell_type": "markdown",
      "source": [
        "### Feature Module"
      ],
      "metadata": {
        "id": "o2RMJKAH__wK"
      }
    },
    {
      "cell_type": "markdown",
      "source": [
        "#### FeatureMap_convolution"
      ],
      "metadata": {
        "id": "h6WIqtOKClHC"
      }
    },
    {
      "cell_type": "code",
      "source": [
        "class conv2DBatchNormRelu(nn.Module):\n",
        "    def __init__(self, in_channels, out_channels, kernel_size, stride, padding,\n",
        "                 dilation, bias):\n",
        "        super().__init__()\n",
        "        self.conv = nn.Conv2d(in_channels, out_channels, \n",
        "                              kernel_size, stride, padding, dilation, bias=bias)\n",
        "        self.batchnorm = nn.BatchNorm2d(out_channels)\n",
        "        self.relu = nn.ReLU(inplace=True)\n",
        "        # inplace 설정으로 입력을 저장하지 않고 출력을 계산하여 메모리 절약\n",
        "\n",
        "    def forward(self, x):\n",
        "        x = self.conv(x)\n",
        "        x = self.batchnorm(x)\n",
        "        outputs = self.relu(x)\n",
        "\n",
        "        return outputs"
      ],
      "metadata": {
        "id": "deHG8__oDLVN"
      },
      "execution_count": 65,
      "outputs": []
    },
    {
      "cell_type": "code",
      "source": [
        "class FeatureMap_convolution(nn.Module):\n",
        "    def __init__(self):\n",
        "        '''구성할 네트워크 준비'''\n",
        "        super().__init__()\n",
        "\n",
        "        # 합성곱 층 1\n",
        "        in_channels, out_channels, kernel_size, stride, padding, dilation, bias = 3, 64, 3, 2, 1, 1, False\n",
        "        self.cbnr_1 = conv2DBatchNormRelu(\n",
        "            in_channels, out_channels, kernel_size, stride, padding, dilation, bias)\n",
        "\n",
        "        # 합성곱 층 2\n",
        "        in_channels, out_channels, kernel_size, stride, padding, dilation, bias = 64, 64, 3, 1, 1, 1, False\n",
        "        self.cbnr_2 = conv2DBatchNormRelu(\n",
        "            in_channels, out_channels, kernel_size, stride, padding, dilation, bias)\n",
        "\n",
        "        # 합성곱 층 3\n",
        "        in_channels, out_channels, kernel_size, stride, padding, dilation, bias = 64, 128, 3, 1, 1, 1, False\n",
        "        self.cbnr_3 = conv2DBatchNormRelu(\n",
        "            in_channels, out_channels, kernel_size, stride, padding, dilation, bias)\n",
        "\n",
        "        # 최대 풀링 층\n",
        "        self.maxpool = nn.MaxPool2d(kernel_size=3, stride=2, padding=1)\n",
        "\n",
        "    def forward(self, x):\n",
        "        x = self.cbnr_1(x)\n",
        "        x = self.cbnr_2(x)\n",
        "        x = self.cbnr_3(x)\n",
        "        outputs = self.maxpool(x)\n",
        "\n",
        "        return outputs"
      ],
      "metadata": {
        "id": "SxEZl2OYABlB"
      },
      "execution_count": 69,
      "outputs": []
    },
    {
      "cell_type": "markdown",
      "source": [
        "#### ResidualBlockPSP\n",
        "- bottleNeckPSP 1개\n",
        "- bottleNeckIdentifyPSP {n_blocks}개"
      ],
      "metadata": {
        "id": "TH53Eg0PF-Xm"
      }
    },
    {
      "cell_type": "code",
      "source": [
        "class ResidualBlockPSP(nn.Sequential):\n",
        "    def __init__(self, n_blocks, in_channels, mid_channels, out_channels, stride,\n",
        "                 dilation):\n",
        "        super().__init__()\n",
        "\n",
        "        # bottleNeckPSP 준비\n",
        "        self.add_module(\n",
        "            \"block1\",\n",
        "            bottleNeckPSP(in_channels, mid_channels,\n",
        "                          out_channels, stride, dilation)\n",
        "        )\n",
        "\n",
        "        # bottleNeckIdentifyPSP 반복 준비\n",
        "        for i in range(n_blocks - 1):\n",
        "            self.add_module(\n",
        "                \"block\" + str(i+2),\n",
        "                bottleNeckIdentifyPSP(\n",
        "                    output_channels, mid_channels, stride, dilation)\n",
        "            )"
      ],
      "metadata": {
        "id": "A0juabANF0DE"
      },
      "execution_count": 70,
      "outputs": []
    },
    {
      "cell_type": "markdown",
      "source": [
        "##### bottleNeckPSP & bottleNeckIdentifyPSP"
      ],
      "metadata": {
        "id": "d5kXjuFMIldJ"
      }
    },
    {
      "cell_type": "code",
      "source": [
        "class conv2DBatchNorm(nn.Module):\n",
        "    def __init__(self, in_channels, out_channels, kernel_size, stride, padding,\n",
        "                 dilation, bias):\n",
        "        super().__init__()\n",
        "        self.conv = nn.Conv2d(in_channels, out_channels, \n",
        "                              kernel_size, stride, padding, dilation, bias=bias)\n",
        "        self.batchnorm = nn.BatchNorm2d(out_channels)\n",
        "\n",
        "    def forward(self, x):\n",
        "        x = self.conv(x)\n",
        "        outputs = self.batchnorm(x)\n",
        "\n",
        "        return outputs"
      ],
      "metadata": {
        "id": "1Z3mbWKTIrkp"
      },
      "execution_count": 71,
      "outputs": []
    },
    {
      "cell_type": "code",
      "source": [
        "class bottleNeckPSP(nn.Module):\n",
        "    def __init__(self, in_channels, mid_channels, out_channels, stride, dilation):\n",
        "        super().__init__()\n",
        "\n",
        "        self.cbr_1 = conv2DBatchNormRelu(\n",
        "            in_channels, mid_channels, kernel_size=1, stride=1, padding=0, \n",
        "            dilation=1, bias=False)\n",
        "        self.cbr_2 = conv2DBatchNormRelu(\n",
        "            mid_channels, mid_channels, kernel_size=3, stride=stride, \n",
        "            padding=dilation, dilation=dilation, bias=False)\n",
        "        self.cb_3 = conv2DBatchNorm(\n",
        "            mid_channels, out_channels, kernel_size=1, stride=1, padding=0, \n",
        "            dilation=1, bias=False)\n",
        "        \n",
        "        # Skip Connection\n",
        "        self.cb_residual = conv2DBatchNorm(\n",
        "            in_channels, out_channels, kernel_size=1, stride=stride, padding=0, \n",
        "            dilation=1, bias=False)\n",
        "        \n",
        "        self.relu = nn.ReLU(inplace=True)\n",
        "\n",
        "    def forward(self, x):\n",
        "        conv = self.cb_3(self.cbr_2(self.cbr_1(x)))\n",
        "        residual = self.cb_residual(x)\n",
        "        return self.relu(conv + residual) # f(x) + residual(x)"
      ],
      "metadata": {
        "id": "iEKW0PWWLjws"
      },
      "execution_count": 72,
      "outputs": []
    },
    {
      "cell_type": "code",
      "source": [
        "class bottleNeckIdentifyPSP(nn.Module):\n",
        "    def __init__(self, in_channels, mid_channels, stride, dilation):\n",
        "        super().__init__()\n",
        "\n",
        "        self.cbr_1 = conv2DBatchNormRelu(\n",
        "            in_channels, mid_channels, kernel_size=1, stride=1, padding=0, \n",
        "            dilation=1, bias=False)\n",
        "        self.cbr_2 = conv2DBatchNormRelu(\n",
        "            mid_channels, mid_channels, kernel_size=3, stride=1, \n",
        "            padding=dilation, dilation=dilation, bias=False)\n",
        "        self.cb_3 = conv2DBatchNorm(\n",
        "            mid_channels, in_channels, kernel_size=1, stride=1, padding=0, \n",
        "            dilation=1, bias=False)\n",
        "        \n",
        "        self.relu = nn.ReLU(inplace=True)\n",
        "\n",
        "    def forward(self, x):\n",
        "        conv = self.cb_3(self.cbr_2(self.cbr_1(x)))\n",
        "        residual = x\n",
        "        return self.relu(conv + residual) # f(x) + x "
      ],
      "metadata": {
        "id": "ryLDoYAwME5D"
      },
      "execution_count": 73,
      "outputs": []
    },
    {
      "cell_type": "markdown",
      "source": [
        "### Pyramid Pooling Module"
      ],
      "metadata": {
        "id": "0lrps7bpIlbT"
      }
    },
    {
      "cell_type": "code",
      "source": [
        ""
      ],
      "metadata": {
        "id": "P0VY4dyLOPLU"
      },
      "execution_count": null,
      "outputs": []
    }
  ]
}