{
  "nbformat": 4,
  "nbformat_minor": 0,
  "metadata": {
    "colab": {
      "name": "week2_sparta_pytorch_2_SoftmaxRegression_LossFunction.ipynb",
      "provenance": [],
      "authorship_tag": "ABX9TyO14Op+cIVZ1K3/yT4AgaNv",
      "include_colab_link": true
    },
    "kernelspec": {
      "name": "python3",
      "display_name": "Python 3"
    },
    "language_info": {
      "name": "python"
    }
  },
  "cells": [
    {
      "cell_type": "markdown",
      "metadata": {
        "id": "view-in-github",
        "colab_type": "text"
      },
      "source": [
        "<a href=\"https://colab.research.google.com/github/jhlee508/sparta-pytorch/blob/master/week2/week2_sparta_pytorch_2_SoftmaxRegression_LossFunction.ipynb\" target=\"_parent\"><img src=\"https://colab.research.google.com/assets/colab-badge.svg\" alt=\"Open In Colab\"/></a>"
      ]
    },
    {
      "cell_type": "markdown",
      "metadata": {
        "id": "tJF5QonDiQsH"
      },
      "source": [
        "# 1. Low Level 구현"
      ]
    },
    {
      "cell_type": "code",
      "metadata": {
        "id": "Sf9Yj1efhVHv"
      },
      "source": [
        "import torch\n",
        "import torch.nn.functional as F"
      ],
      "execution_count": 1,
      "outputs": []
    },
    {
      "cell_type": "code",
      "metadata": {
        "colab": {
          "base_uri": "https://localhost:8080/"
        },
        "id": "XiHqdcF2hiLJ",
        "outputId": "c867eccb-a77e-443c-fbf2-e781f97f81d1"
      },
      "source": [
        "torch.manual_seed(1)"
      ],
      "execution_count": 2,
      "outputs": [
        {
          "output_type": "execute_result",
          "data": {
            "text/plain": [
              "<torch._C.Generator at 0x7f9e300e6ad0>"
            ]
          },
          "metadata": {},
          "execution_count": 2
        }
      ]
    },
    {
      "cell_type": "code",
      "metadata": {
        "id": "v8hBaHgchkbQ"
      },
      "source": [
        "z = torch.FloatTensor([1, 2, 3])"
      ],
      "execution_count": 12,
      "outputs": []
    },
    {
      "cell_type": "code",
      "metadata": {
        "colab": {
          "base_uri": "https://localhost:8080/"
        },
        "id": "F1tlQKBohlZQ",
        "outputId": "3d31b50c-02a1-4368-e1f1-b5063528a226"
      },
      "source": [
        "hypothesis = F.softmax(z, dim=0) # 0차원에서만 softmax 연산 수행\n",
        "print(hypothesis)"
      ],
      "execution_count": 13,
      "outputs": [
        {
          "output_type": "stream",
          "name": "stdout",
          "text": [
            "tensor([0.0900, 0.2447, 0.6652])\n"
          ]
        }
      ]
    },
    {
      "cell_type": "code",
      "metadata": {
        "colab": {
          "base_uri": "https://localhost:8080/"
        },
        "id": "oXn5ltjJhnNY",
        "outputId": "303f9ee2-2b95-4677-83ec-a5168831ae2b"
      },
      "source": [
        "hypothesis.sum()"
      ],
      "execution_count": 14,
      "outputs": [
        {
          "output_type": "execute_result",
          "data": {
            "text/plain": [
              "tensor(1.)"
            ]
          },
          "metadata": {},
          "execution_count": 14
        }
      ]
    },
    {
      "cell_type": "code",
      "metadata": {
        "id": "HqoSqLc7hr_Q",
        "colab": {
          "base_uri": "https://localhost:8080/"
        },
        "outputId": "08124d36-147b-46b9-f1be-c0005e219411"
      },
      "source": [
        "z = torch.rand(3, 5, requires_grad=True)\n",
        "print(z)"
      ],
      "execution_count": 15,
      "outputs": [
        {
          "output_type": "stream",
          "name": "stdout",
          "text": [
            "tensor([[0.7570, 0.2346, 0.6471, 0.3556, 0.4452],\n",
            "        [0.0193, 0.2616, 0.7713, 0.3785, 0.9980],\n",
            "        [0.9008, 0.4766, 0.1663, 0.8045, 0.6552]], requires_grad=True)\n"
          ]
        }
      ]
    },
    {
      "cell_type": "code",
      "metadata": {
        "colab": {
          "base_uri": "https://localhost:8080/"
        },
        "id": "lQfQ3H0jhs3Q",
        "outputId": "3c255e0a-24d3-46ca-b786-60353c413f16"
      },
      "source": [
        "hypothesis = F.softmax(z, dim=1) # 각 행마다 softmax 연산 수행\n",
        "print(hypothesis)"
      ],
      "execution_count": 16,
      "outputs": [
        {
          "output_type": "stream",
          "name": "stdout",
          "text": [
            "tensor([[0.2570, 0.1524, 0.2303, 0.1721, 0.1882],\n",
            "        [0.1178, 0.1501, 0.2499, 0.1687, 0.3135],\n",
            "        [0.2615, 0.1711, 0.1254, 0.2375, 0.2045]], grad_fn=<SoftmaxBackward0>)\n"
          ]
        }
      ]
    },
    {
      "cell_type": "code",
      "metadata": {
        "colab": {
          "base_uri": "https://localhost:8080/"
        },
        "id": "XHRynuXVhtlJ",
        "outputId": "4d31bc0d-a95c-4574-c8d2-171ed0a7a427"
      },
      "source": [
        "y = torch.randint(5, (3,)).long()\n",
        "print(y)"
      ],
      "execution_count": 17,
      "outputs": [
        {
          "output_type": "stream",
          "name": "stdout",
          "text": [
            "tensor([1, 4, 4])\n"
          ]
        }
      ]
    },
    {
      "cell_type": "code",
      "metadata": {
        "colab": {
          "base_uri": "https://localhost:8080/"
        },
        "id": "llaQ2nkdhvdA",
        "outputId": "ace4078b-59b4-49bd-8329-406cd4bd6ab1"
      },
      "source": [
        "print(y.unsqueeze(1)) # unsqueeze 1번 수행 (-> Matrix로 변환)"
      ],
      "execution_count": 22,
      "outputs": [
        {
          "output_type": "stream",
          "name": "stdout",
          "text": [
            "tensor([[1],\n",
            "        [4],\n",
            "        [4]])\n"
          ]
        }
      ]
    },
    {
      "cell_type": "code",
      "metadata": {
        "colab": {
          "base_uri": "https://localhost:8080/"
        },
        "id": "dWf3axfYhuog",
        "outputId": "5a54342f-0178-4696-c43c-023ef55c7aec"
      },
      "source": [
        "# 모든 원소가 0의 값을 가진 3 × 5 텐서 생성\n",
        "y_one_hot = torch.zeros_like(hypothesis)\n",
        "y_one_hot.scatter_(1, y.unsqueeze(1), 1)\n",
        "print(y_one_hot)"
      ],
      "execution_count": 23,
      "outputs": [
        {
          "output_type": "stream",
          "name": "stdout",
          "text": [
            "tensor([[0., 1., 0., 0., 0.],\n",
            "        [0., 0., 0., 0., 1.],\n",
            "        [0., 0., 0., 0., 1.]])\n"
          ]
        }
      ]
    },
    {
      "cell_type": "code",
      "metadata": {
        "colab": {
          "base_uri": "https://localhost:8080/"
        },
        "id": "OYxYMErbhy_o",
        "outputId": "e919736d-2507-4145-f1a5-86df692f1bfb"
      },
      "source": [
        "cost = (y_one_hot * -torch.log(hypothesis)).sum(dim=1).mean()\n",
        "print(cost)"
      ],
      "execution_count": 24,
      "outputs": [
        {
          "output_type": "stream",
          "name": "stdout",
          "text": [
            "tensor(1.5427, grad_fn=<MeanBackward0>)\n"
          ]
        }
      ]
    },
    {
      "cell_type": "markdown",
      "metadata": {
        "id": "1znSJB9MiS9u"
      },
      "source": [
        "# 2. High-Level 구현"
      ]
    },
    {
      "cell_type": "code",
      "metadata": {
        "id": "ijV_4371iPM-"
      },
      "source": [
        "import torch\n",
        "import torch.nn.functional as F\n",
        "import torch.nn as nn"
      ],
      "execution_count": 25,
      "outputs": []
    },
    {
      "cell_type": "code",
      "metadata": {
        "colab": {
          "base_uri": "https://localhost:8080/"
        },
        "id": "O5h6MfaqiXGQ",
        "outputId": "823b928d-c8dc-4a24-a959-13f47156f9f7"
      },
      "source": [
        "torch.manual_seed(1)"
      ],
      "execution_count": 26,
      "outputs": [
        {
          "output_type": "execute_result",
          "data": {
            "text/plain": [
              "<torch._C.Generator at 0x7f9e300e6ad0>"
            ]
          },
          "metadata": {},
          "execution_count": 26
        }
      ]
    },
    {
      "cell_type": "markdown",
      "metadata": {
        "id": "3ZBBZYcqikdA"
      },
      "source": [
        "##2-1. F.softmax() + torch.log() = F.log_softmax()"
      ]
    },
    {
      "cell_type": "code",
      "metadata": {
        "colab": {
          "base_uri": "https://localhost:8080/"
        },
        "id": "deP9-6yHiX5Q",
        "outputId": "894577fd-dc68-494c-d873-0e92307a7b3d"
      },
      "source": [
        "# Low level\n",
        "z = torch.rand(3, 5, requires_grad=True)\n",
        "torch.log(F.softmax(z, dim=1))"
      ],
      "execution_count": 27,
      "outputs": [
        {
          "output_type": "execute_result",
          "data": {
            "text/plain": [
              "tensor([[-1.3301, -1.8084, -1.6846, -1.3530, -2.0584],\n",
              "        [-1.4147, -1.8174, -1.4602, -1.6450, -1.7758],\n",
              "        [-1.5025, -1.6165, -1.4586, -1.8360, -1.6776]], grad_fn=<LogBackward0>)"
            ]
          },
          "metadata": {},
          "execution_count": 27
        }
      ]
    },
    {
      "cell_type": "code",
      "metadata": {
        "colab": {
          "base_uri": "https://localhost:8080/"
        },
        "id": "QppmlGcRiYw4",
        "outputId": "4d59eaa0-73ff-4053-bc4d-a2e3fdb8f724"
      },
      "source": [
        "# High level\n",
        "F.log_softmax(z, dim=1) # Log + Softmax API"
      ],
      "execution_count": 28,
      "outputs": [
        {
          "output_type": "execute_result",
          "data": {
            "text/plain": [
              "tensor([[-1.3301, -1.8084, -1.6846, -1.3530, -2.0584],\n",
              "        [-1.4147, -1.8174, -1.4602, -1.6450, -1.7758],\n",
              "        [-1.5025, -1.6165, -1.4586, -1.8360, -1.6776]],\n",
              "       grad_fn=<LogSoftmaxBackward0>)"
            ]
          },
          "metadata": {},
          "execution_count": 28
        }
      ]
    },
    {
      "cell_type": "markdown",
      "metadata": {
        "id": "N2OMHgdFiyWh"
      },
      "source": [
        "## 2-2. F.log_softmax() + F.nll_loss() = F.cross_entropy()"
      ]
    },
    {
      "cell_type": "code",
      "metadata": {
        "colab": {
          "base_uri": "https://localhost:8080/"
        },
        "id": "KNe7Bau0iZnA",
        "outputId": "03765218-5f74-4478-87c3-34d6d44d05df"
      },
      "source": [
        "# Low level\n",
        "# 첫번째 수식\n",
        "(y_one_hot * -torch.log(F.softmax(z, dim=1))).sum(dim=1).mean()"
      ],
      "execution_count": 29,
      "outputs": [
        {
          "output_type": "execute_result",
          "data": {
            "text/plain": [
              "tensor(1.7539, grad_fn=<MeanBackward0>)"
            ]
          },
          "metadata": {},
          "execution_count": 29
        }
      ]
    },
    {
      "cell_type": "code",
      "metadata": {
        "colab": {
          "base_uri": "https://localhost:8080/"
        },
        "id": "1lvub6qIiaiQ",
        "outputId": "9c08a382-c74a-4218-9dbf-223a8dc4015b"
      },
      "source": [
        "# 두번째 수식\n",
        "(y_one_hot * - F.log_softmax(z, dim=1)).sum(dim=1).mean()"
      ],
      "execution_count": 30,
      "outputs": [
        {
          "output_type": "execute_result",
          "data": {
            "text/plain": [
              "tensor(1.7539, grad_fn=<MeanBackward0>)"
            ]
          },
          "metadata": {},
          "execution_count": 30
        }
      ]
    },
    {
      "cell_type": "code",
      "metadata": {
        "colab": {
          "base_uri": "https://localhost:8080/"
        },
        "id": "hrW0RrmIiegI",
        "outputId": "217aa186-0a40-4121-aefb-a505bb6928c4"
      },
      "source": [
        "# 세번째 수식\n",
        "F.nll_loss(F.log_softmax(z, dim=1), y)"
      ],
      "execution_count": 32,
      "outputs": [
        {
          "output_type": "execute_result",
          "data": {
            "text/plain": [
              "tensor(1.7539, grad_fn=<NllLossBackward0>)"
            ]
          },
          "metadata": {},
          "execution_count": 32
        }
      ]
    },
    {
      "cell_type": "code",
      "metadata": {
        "colab": {
          "base_uri": "https://localhost:8080/"
        },
        "id": "5jm-TsJFi2vp",
        "outputId": "8a1d0791-17b2-40aa-d884-fe4053cba20d"
      },
      "source": [
        "# High level\n",
        "# 네번째 수식 (함수)\n",
        "F.cross_entropy(z, y)"
      ],
      "execution_count": 37,
      "outputs": [
        {
          "output_type": "execute_result",
          "data": {
            "text/plain": [
              "tensor(1.7539, grad_fn=<NllLossBackward0>)"
            ]
          },
          "metadata": {},
          "execution_count": 37
        }
      ]
    },
    {
      "cell_type": "code",
      "metadata": {
        "colab": {
          "base_uri": "https://localhost:8080/"
        },
        "id": "c7hDmNWei4VR",
        "outputId": "ebf028e3-22e2-4138-9ead-5e873b12bbe2"
      },
      "source": [
        "# High level\n",
        "# 다섯번째 수식 (클래스)\n",
        "nn.CrossEntropyLoss()(z, y)"
      ],
      "execution_count": 38,
      "outputs": [
        {
          "output_type": "execute_result",
          "data": {
            "text/plain": [
              "tensor(1.7539, grad_fn=<NllLossBackward0>)"
            ]
          },
          "metadata": {},
          "execution_count": 38
        }
      ]
    }
  ]
}