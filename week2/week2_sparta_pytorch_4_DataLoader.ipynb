{
  "nbformat": 4,
  "nbformat_minor": 0,
  "metadata": {
    "colab": {
      "name": "week2_sparta_pytorch_4_DataLoader.ipynb",
      "provenance": [],
      "collapsed_sections": [],
      "authorship_tag": "ABX9TyM4ePaDgSHV/ubcqJRqPhjc",
      "include_colab_link": true
    },
    "kernelspec": {
      "name": "python3",
      "display_name": "Python 3"
    },
    "language_info": {
      "name": "python"
    }
  },
  "cells": [
    {
      "cell_type": "markdown",
      "metadata": {
        "id": "view-in-github",
        "colab_type": "text"
      },
      "source": [
        "<a href=\"https://colab.research.google.com/github/jhlee508/sparta-pytorch/blob/master/week2/week2_sparta_pytorch_4_DataLoader.ipynb\" target=\"_parent\"><img src=\"https://colab.research.google.com/assets/colab-badge.svg\" alt=\"Open In Colab\"/></a>"
      ]
    },
    {
      "cell_type": "code",
      "execution_count": 1,
      "metadata": {
        "id": "bQGRrsiBXTaf"
      },
      "outputs": [],
      "source": [
        "import torch\n",
        "import torch.nn as nn\n",
        "import torch.nn.functional as F"
      ]
    },
    {
      "cell_type": "code",
      "source": [
        "from torch.utils.data import TensorDataset\n",
        "from torch.utils.data import DataLoader"
      ],
      "metadata": {
        "id": "tB2zZPrFXdDK"
      },
      "execution_count": 2,
      "outputs": []
    },
    {
      "cell_type": "code",
      "source": [
        "x_train  =  torch.FloatTensor([[73,  80,  75],\n",
        "                               [93,  88,  93],\n",
        "                               [89,  91,  90],\n",
        "                               [96,  98,  100],\n",
        "                               [73,  66,  70]])\n",
        "\n",
        "y_train  =  torch.FloatTensor([[152],  [185],  [180],  [196],  [142]])"
      ],
      "metadata": {
        "id": "AwP8tPbSXlBv"
      },
      "execution_count": 3,
      "outputs": []
    },
    {
      "cell_type": "code",
      "source": [
        "# Tensor 형태의 Dataset 객체 생성\n",
        "dataset = TensorDataset(x_train, y_train)"
      ],
      "metadata": {
        "id": "mr5FjkQFXtI3"
      },
      "execution_count": 5,
      "outputs": []
    },
    {
      "cell_type": "code",
      "source": [
        "# DataLoader 생성\n",
        "dataloader = DataLoader(dataset, batch_size=2, shuffle=True)"
      ],
      "metadata": {
        "id": "ICXdxLhGXzTA"
      },
      "execution_count": 6,
      "outputs": []
    },
    {
      "cell_type": "code",
      "source": [
        "# 모델 생성\n",
        "model = nn.Linear(3, 1)\n",
        "\n",
        "# opimizer 생성\n",
        "optimizer = torch.optim.SGD(model.parameters(), lr=1e-5)"
      ],
      "metadata": {
        "id": "kCP0GTaTYC-l"
      },
      "execution_count": 7,
      "outputs": []
    },
    {
      "cell_type": "markdown",
      "source": [
        "### DataLoader를 활용한 Linear Regression 구현"
      ],
      "metadata": {
        "id": "HAslXyY4ZN-q"
      }
    },
    {
      "cell_type": "code",
      "source": [
        "nb_epochs = 20\n",
        "for epoch in range(nb_epochs + 1):\n",
        "  for batch_idx, samples in enumerate(dataloader):\n",
        "    # print(batch_idx)\n",
        "    # print(samples)\n",
        "    x_train, y_train = samples\n",
        "    \n",
        "    # H(x) 계산\n",
        "    prediction = model(x_train)\n",
        "\n",
        "    # cost 계산\n",
        "    cost = F.mse_loss(prediction, y_train)\n",
        "\n",
        "    # cost로 H(x) 계산\n",
        "    optimizer.zero_grad()\n",
        "    cost.backward()\n",
        "    optimizer.step()\n",
        "\n",
        "    print('Epoch {:4d}/{} Batch {}/{} Cost: {:.6f}'.format(\n",
        "        epoch, nb_epochs, batch_idx+1, len(dataloader),\n",
        "        cost.item()\n",
        "        ))"
      ],
      "metadata": {
        "colab": {
          "base_uri": "https://localhost:8080/"
        },
        "id": "_5fjfTuSYQrW",
        "outputId": "7c83c008-bd3d-4d73-b7a0-f5c1c7d575c3"
      },
      "execution_count": 8,
      "outputs": [
        {
          "output_type": "stream",
          "name": "stdout",
          "text": [
            "Epoch    0/20 Batch 1/3 Cost: 31106.062500\n",
            "Epoch    0/20 Batch 2/3 Cost: 10991.413086\n",
            "Epoch    0/20 Batch 3/3 Cost: 4111.337402\n",
            "Epoch    1/20 Batch 1/3 Cost: 670.161743\n",
            "Epoch    1/20 Batch 2/3 Cost: 470.991394\n",
            "Epoch    1/20 Batch 3/3 Cost: 109.734383\n",
            "Epoch    2/20 Batch 1/3 Cost: 17.604778\n",
            "Epoch    2/20 Batch 2/3 Cost: 11.888455\n",
            "Epoch    2/20 Batch 3/3 Cost: 2.002033\n",
            "Epoch    3/20 Batch 1/3 Cost: 0.328718\n",
            "Epoch    3/20 Batch 2/3 Cost: 1.023656\n",
            "Epoch    3/20 Batch 3/3 Cost: 0.192168\n",
            "Epoch    4/20 Batch 1/3 Cost: 0.511791\n",
            "Epoch    4/20 Batch 2/3 Cost: 0.015163\n",
            "Epoch    4/20 Batch 3/3 Cost: 0.166817\n",
            "Epoch    5/20 Batch 1/3 Cost: 0.072332\n",
            "Epoch    5/20 Batch 2/3 Cost: 0.422857\n",
            "Epoch    5/20 Batch 3/3 Cost: 0.373069\n",
            "Epoch    6/20 Batch 1/3 Cost: 0.083302\n",
            "Epoch    6/20 Batch 2/3 Cost: 0.095722\n",
            "Epoch    6/20 Batch 3/3 Cost: 0.963055\n",
            "Epoch    7/20 Batch 1/3 Cost: 0.482487\n",
            "Epoch    7/20 Batch 2/3 Cost: 0.054493\n",
            "Epoch    7/20 Batch 3/3 Cost: 0.719712\n",
            "Epoch    8/20 Batch 1/3 Cost: 0.265599\n",
            "Epoch    8/20 Batch 2/3 Cost: 0.275390\n",
            "Epoch    8/20 Batch 3/3 Cost: 0.686549\n",
            "Epoch    9/20 Batch 1/3 Cost: 0.064480\n",
            "Epoch    9/20 Batch 2/3 Cost: 0.111352\n",
            "Epoch    9/20 Batch 3/3 Cost: 0.983528\n",
            "Epoch   10/20 Batch 1/3 Cost: 0.303295\n",
            "Epoch   10/20 Batch 2/3 Cost: 0.402301\n",
            "Epoch   10/20 Batch 3/3 Cost: 0.005800\n",
            "Epoch   11/20 Batch 1/3 Cost: 0.345934\n",
            "Epoch   11/20 Batch 2/3 Cost: 0.496033\n",
            "Epoch   11/20 Batch 3/3 Cost: 0.008536\n",
            "Epoch   12/20 Batch 1/3 Cost: 0.269578\n",
            "Epoch   12/20 Batch 2/3 Cost: 0.340402\n",
            "Epoch   12/20 Batch 3/3 Cost: 0.151802\n",
            "Epoch   13/20 Batch 1/3 Cost: 0.096244\n",
            "Epoch   13/20 Batch 2/3 Cost: 0.595781\n",
            "Epoch   13/20 Batch 3/3 Cost: 0.190926\n",
            "Epoch   14/20 Batch 1/3 Cost: 0.035371\n",
            "Epoch   14/20 Batch 2/3 Cost: 0.130960\n",
            "Epoch   14/20 Batch 3/3 Cost: 0.961708\n",
            "Epoch   15/20 Batch 1/3 Cost: 0.207132\n",
            "Epoch   15/20 Batch 2/3 Cost: 0.659891\n",
            "Epoch   15/20 Batch 3/3 Cost: 0.016386\n",
            "Epoch   16/20 Batch 1/3 Cost: 0.197261\n",
            "Epoch   16/20 Batch 2/3 Cost: 0.114489\n",
            "Epoch   16/20 Batch 3/3 Cost: 0.819299\n",
            "Epoch   17/20 Batch 1/3 Cost: 0.526678\n",
            "Epoch   17/20 Batch 2/3 Cost: 0.161147\n",
            "Epoch   17/20 Batch 3/3 Cost: 0.001969\n",
            "Epoch   18/20 Batch 1/3 Cost: 0.310899\n",
            "Epoch   18/20 Batch 2/3 Cost: 0.326120\n",
            "Epoch   18/20 Batch 3/3 Cost: 0.143350\n",
            "Epoch   19/20 Batch 1/3 Cost: 0.497514\n",
            "Epoch   19/20 Batch 2/3 Cost: 0.198836\n",
            "Epoch   19/20 Batch 3/3 Cost: 0.079419\n",
            "Epoch   20/20 Batch 1/3 Cost: 0.130781\n",
            "Epoch   20/20 Batch 2/3 Cost: 0.526565\n",
            "Epoch   20/20 Batch 3/3 Cost: 0.159763\n"
          ]
        }
      ]
    },
    {
      "cell_type": "code",
      "source": [
        "# 임의의 입력 [73, 80, 75]를 선언\n",
        "new_var = torch.FloatTensor([[73, 80, 75]])\n",
        "\n",
        "# 입력한 값에 대하여 예측값 y를 리턴받아서 pred_y에 저장\n",
        "pred_y = model(new_var)\n",
        "print(\"훈련된 모델이 예측한 값:\", pred_y)"
      ],
      "metadata": {
        "colab": {
          "base_uri": "https://localhost:8080/"
        },
        "id": "2tc6EcGBZUoh",
        "outputId": "84e4f06d-1207-46bc-d5b1-7ee6ed616967"
      },
      "execution_count": 12,
      "outputs": [
        {
          "output_type": "stream",
          "name": "stdout",
          "text": [
            "훈련된 모델이 예측한 값: tensor([[151.0319]], grad_fn=<AddmmBackward0>)\n"
          ]
        }
      ]
    }
  ]
}